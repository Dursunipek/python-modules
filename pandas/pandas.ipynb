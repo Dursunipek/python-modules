{
 "cells": [
  {
   "cell_type": "code",
   "execution_count": 336,
   "id": "d007b88d",
   "metadata": {},
   "outputs": [],
   "source": [
    "import pandas as pd\n",
    "import numpy as np"
   ]
  },
  {
   "cell_type": "markdown",
   "id": "195280dd",
   "metadata": {},
   "source": [
    "# Series"
   ]
  },
  {
   "cell_type": "code",
   "execution_count": 337,
   "id": "2931efd6",
   "metadata": {},
   "outputs": [],
   "source": [
    "dictionary = {'bmw': 'i5','audi': 'a6','volvo': 's90' }"
   ]
  },
  {
   "cell_type": "code",
   "execution_count": 338,
   "id": "3c24ff06",
   "metadata": {},
   "outputs": [
    {
     "data": {
      "text/plain": [
       "bmw       i5\n",
       "audi      a6\n",
       "volvo    s90\n",
       "dtype: object"
      ]
     },
     "execution_count": 338,
     "metadata": {},
     "output_type": "execute_result"
    }
   ],
   "source": [
    "cars = pd.Series(dictionary)\n",
    "pd.Series(dictionary)"
   ]
  },
  {
   "cell_type": "code",
   "execution_count": 339,
   "id": "44d1208e",
   "metadata": {},
   "outputs": [],
   "source": [
    "numpyArray = np.array((50,40,30))"
   ]
  },
  {
   "cell_type": "code",
   "execution_count": 340,
   "id": "a6932599",
   "metadata": {
    "scrolled": true
   },
   "outputs": [
    {
     "data": {
      "text/plain": [
       "0    50\n",
       "1    40\n",
       "2    30\n",
       "dtype: int32"
      ]
     },
     "execution_count": 340,
     "metadata": {},
     "output_type": "execute_result"
    }
   ],
   "source": [
    "pd.Series(numpyArray)"
   ]
  },
  {
   "cell_type": "code",
   "execution_count": 341,
   "id": "83a90404",
   "metadata": {},
   "outputs": [],
   "source": [
    "myNumbers = [10,20,30,40]\n",
    "myİndex = ['İndex1','İndex2','İndex3','İndex4']"
   ]
  },
  {
   "cell_type": "code",
   "execution_count": 342,
   "id": "93b045d8",
   "metadata": {},
   "outputs": [
    {
     "data": {
      "text/plain": [
       "İndex1    10\n",
       "İndex2    20\n",
       "İndex3    30\n",
       "İndex4    40\n",
       "dtype: int64"
      ]
     },
     "execution_count": 342,
     "metadata": {},
     "output_type": "execute_result"
    }
   ],
   "source": [
    "pd.Series(data = myNumbers,index = myİndex)"
   ]
  },
  {
   "cell_type": "code",
   "execution_count": 343,
   "id": "30b9aff0",
   "metadata": {},
   "outputs": [
    {
     "data": {
      "text/plain": [
       "'i5'"
      ]
     },
     "execution_count": 343,
     "metadata": {},
     "output_type": "execute_result"
    }
   ],
   "source": [
    "cars['bmw']"
   ]
  },
  {
   "cell_type": "code",
   "execution_count": 344,
   "id": "f6819010",
   "metadata": {},
   "outputs": [],
   "source": [
    "carsMaxSpeed = {'bmw': 280,'audi': 260,'volvo': 220}\n",
    "carsMaxSpeed = pd.Series(carsMaxSpeed)"
   ]
  },
  {
   "cell_type": "code",
   "execution_count": 345,
   "id": "cbe8a331",
   "metadata": {},
   "outputs": [
    {
     "data": {
      "text/plain": [
       "bmw      560\n",
       "audi     520\n",
       "volvo    440\n",
       "dtype: int64"
      ]
     },
     "execution_count": 345,
     "metadata": {},
     "output_type": "execute_result"
    }
   ],
   "source": [
    "carsMaxSpeed = carsMaxSpeed + carsMaxSpeed\n",
    "carsMaxSpeed"
   ]
  },
  {
   "cell_type": "markdown",
   "id": "39839eeb",
   "metadata": {},
   "source": [
    "# Dataframe"
   ]
  },
  {
   "cell_type": "code",
   "execution_count": 346,
   "id": "9f0f3161",
   "metadata": {},
   "outputs": [],
   "source": [
    "## Serilerin bir araya gelmesi ile olusur"
   ]
  },
  {
   "cell_type": "code",
   "execution_count": 347,
   "id": "9d346820",
   "metadata": {},
   "outputs": [
    {
     "data": {
      "text/plain": [
       "array([[-1.41447606, -1.01373205,  0.51079061],\n",
       "       [ 0.95029007,  2.39690151, -0.01329251],\n",
       "       [-0.64348672,  0.40087354,  1.88734818],\n",
       "       [ 0.21157294, -0.24044642, -0.71998925]])"
      ]
     },
     "execution_count": 347,
     "metadata": {},
     "output_type": "execute_result"
    }
   ],
   "source": [
    "data = np.random.randn(4,3)\n",
    "data"
   ]
  },
  {
   "cell_type": "code",
   "execution_count": 348,
   "id": "93d20735",
   "metadata": {},
   "outputs": [
    {
     "data": {
      "text/html": [
       "<div>\n",
       "<style scoped>\n",
       "    .dataframe tbody tr th:only-of-type {\n",
       "        vertical-align: middle;\n",
       "    }\n",
       "\n",
       "    .dataframe tbody tr th {\n",
       "        vertical-align: top;\n",
       "    }\n",
       "\n",
       "    .dataframe thead th {\n",
       "        text-align: right;\n",
       "    }\n",
       "</style>\n",
       "<table border=\"1\" class=\"dataframe\">\n",
       "  <thead>\n",
       "    <tr style=\"text-align: right;\">\n",
       "      <th></th>\n",
       "      <th>0</th>\n",
       "      <th>1</th>\n",
       "      <th>2</th>\n",
       "    </tr>\n",
       "  </thead>\n",
       "  <tbody>\n",
       "    <tr>\n",
       "      <th>0</th>\n",
       "      <td>-1.414476</td>\n",
       "      <td>-1.013732</td>\n",
       "      <td>0.510791</td>\n",
       "    </tr>\n",
       "    <tr>\n",
       "      <th>1</th>\n",
       "      <td>0.950290</td>\n",
       "      <td>2.396902</td>\n",
       "      <td>-0.013293</td>\n",
       "    </tr>\n",
       "    <tr>\n",
       "      <th>2</th>\n",
       "      <td>-0.643487</td>\n",
       "      <td>0.400874</td>\n",
       "      <td>1.887348</td>\n",
       "    </tr>\n",
       "    <tr>\n",
       "      <th>3</th>\n",
       "      <td>0.211573</td>\n",
       "      <td>-0.240446</td>\n",
       "      <td>-0.719989</td>\n",
       "    </tr>\n",
       "  </tbody>\n",
       "</table>\n",
       "</div>"
      ],
      "text/plain": [
       "          0         1         2\n",
       "0 -1.414476 -1.013732  0.510791\n",
       "1  0.950290  2.396902 -0.013293\n",
       "2 -0.643487  0.400874  1.887348\n",
       "3  0.211573 -0.240446 -0.719989"
      ]
     },
     "execution_count": 348,
     "metadata": {},
     "output_type": "execute_result"
    }
   ],
   "source": [
    "df = pd.DataFrame(data)\n",
    "df"
   ]
  },
  {
   "cell_type": "code",
   "execution_count": 349,
   "id": "63129444",
   "metadata": {},
   "outputs": [
    {
     "data": {
      "text/plain": [
       "0   -1.414476\n",
       "1    0.950290\n",
       "2   -0.643487\n",
       "3    0.211573\n",
       "Name: 0, dtype: float64"
      ]
     },
     "execution_count": 349,
     "metadata": {},
     "output_type": "execute_result"
    }
   ],
   "source": [
    "df[0]"
   ]
  },
  {
   "cell_type": "code",
   "execution_count": 350,
   "id": "e2120b74",
   "metadata": {},
   "outputs": [
    {
     "data": {
      "text/plain": [
       "-1.4144760585121077"
      ]
     },
     "execution_count": 350,
     "metadata": {},
     "output_type": "execute_result"
    }
   ],
   "source": [
    "df[0][0]"
   ]
  },
  {
   "cell_type": "code",
   "execution_count": 351,
   "id": "c8d45a39",
   "metadata": {},
   "outputs": [
    {
     "data": {
      "text/html": [
       "<div>\n",
       "<style scoped>\n",
       "    .dataframe tbody tr th:only-of-type {\n",
       "        vertical-align: middle;\n",
       "    }\n",
       "\n",
       "    .dataframe tbody tr th {\n",
       "        vertical-align: top;\n",
       "    }\n",
       "\n",
       "    .dataframe thead th {\n",
       "        text-align: right;\n",
       "    }\n",
       "</style>\n",
       "<table border=\"1\" class=\"dataframe\">\n",
       "  <thead>\n",
       "    <tr style=\"text-align: right;\">\n",
       "      <th></th>\n",
       "      <th>Column1</th>\n",
       "      <th>Column2</th>\n",
       "      <th>Column3</th>\n",
       "    </tr>\n",
       "  </thead>\n",
       "  <tbody>\n",
       "    <tr>\n",
       "      <th>İndex1</th>\n",
       "      <td>-1.414476</td>\n",
       "      <td>-1.013732</td>\n",
       "      <td>0.510791</td>\n",
       "    </tr>\n",
       "    <tr>\n",
       "      <th>İndex2</th>\n",
       "      <td>0.950290</td>\n",
       "      <td>2.396902</td>\n",
       "      <td>-0.013293</td>\n",
       "    </tr>\n",
       "    <tr>\n",
       "      <th>İndex3</th>\n",
       "      <td>-0.643487</td>\n",
       "      <td>0.400874</td>\n",
       "      <td>1.887348</td>\n",
       "    </tr>\n",
       "    <tr>\n",
       "      <th>İndex4</th>\n",
       "      <td>0.211573</td>\n",
       "      <td>-0.240446</td>\n",
       "      <td>-0.719989</td>\n",
       "    </tr>\n",
       "  </tbody>\n",
       "</table>\n",
       "</div>"
      ],
      "text/plain": [
       "         Column1   Column2   Column3\n",
       "İndex1 -1.414476 -1.013732  0.510791\n",
       "İndex2  0.950290  2.396902 -0.013293\n",
       "İndex3 -0.643487  0.400874  1.887348\n",
       "İndex4  0.211573 -0.240446 -0.719989"
      ]
     },
     "execution_count": 351,
     "metadata": {},
     "output_type": "execute_result"
    }
   ],
   "source": [
    "newDataFrame = pd.DataFrame(data,index=['İndex1','İndex2','İndex3','İndex4'],columns=['Column1','Column2','Column3'])\n",
    "newDataFrame"
   ]
  },
  {
   "cell_type": "code",
   "execution_count": 352,
   "id": "00f37ce4",
   "metadata": {},
   "outputs": [
    {
     "data": {
      "text/plain": [
       "İndex1   -1.414476\n",
       "İndex2    0.950290\n",
       "İndex3   -0.643487\n",
       "İndex4    0.211573\n",
       "Name: Column1, dtype: float64"
      ]
     },
     "execution_count": 352,
     "metadata": {},
     "output_type": "execute_result"
    }
   ],
   "source": [
    "newDataFrame['Column1']"
   ]
  },
  {
   "cell_type": "code",
   "execution_count": 353,
   "id": "18eb4dcd",
   "metadata": {},
   "outputs": [
    {
     "data": {
      "text/plain": [
       "0.4008735445440364"
      ]
     },
     "execution_count": 353,
     "metadata": {},
     "output_type": "execute_result"
    }
   ],
   "source": [
    "newDataFrame['Column2']['İndex3']"
   ]
  },
  {
   "cell_type": "code",
   "execution_count": 354,
   "id": "44a54c4c",
   "metadata": {},
   "outputs": [
    {
     "data": {
      "text/plain": [
       "Column1    0.950290\n",
       "Column2    2.396902\n",
       "Column3   -0.013293\n",
       "Name: İndex2, dtype: float64"
      ]
     },
     "execution_count": 354,
     "metadata": {},
     "output_type": "execute_result"
    }
   ],
   "source": [
    "newDataFrame.iloc[1]#İndex Location"
   ]
  },
  {
   "cell_type": "code",
   "execution_count": 355,
   "id": "2705ddc7",
   "metadata": {},
   "outputs": [
    {
     "data": {
      "text/html": [
       "<div>\n",
       "<style scoped>\n",
       "    .dataframe tbody tr th:only-of-type {\n",
       "        vertical-align: middle;\n",
       "    }\n",
       "\n",
       "    .dataframe tbody tr th {\n",
       "        vertical-align: top;\n",
       "    }\n",
       "\n",
       "    .dataframe thead th {\n",
       "        text-align: right;\n",
       "    }\n",
       "</style>\n",
       "<table border=\"1\" class=\"dataframe\">\n",
       "  <thead>\n",
       "    <tr style=\"text-align: right;\">\n",
       "      <th></th>\n",
       "      <th>Column1</th>\n",
       "      <th>Column2</th>\n",
       "      <th>Column3</th>\n",
       "      <th>Column4</th>\n",
       "    </tr>\n",
       "  </thead>\n",
       "  <tbody>\n",
       "    <tr>\n",
       "      <th>İndex1</th>\n",
       "      <td>-1.414476</td>\n",
       "      <td>-1.013732</td>\n",
       "      <td>0.510791</td>\n",
       "      <td>-0.502941</td>\n",
       "    </tr>\n",
       "    <tr>\n",
       "      <th>İndex2</th>\n",
       "      <td>0.950290</td>\n",
       "      <td>2.396902</td>\n",
       "      <td>-0.013293</td>\n",
       "      <td>2.383609</td>\n",
       "    </tr>\n",
       "    <tr>\n",
       "      <th>İndex3</th>\n",
       "      <td>-0.643487</td>\n",
       "      <td>0.400874</td>\n",
       "      <td>1.887348</td>\n",
       "      <td>2.288222</td>\n",
       "    </tr>\n",
       "    <tr>\n",
       "      <th>İndex4</th>\n",
       "      <td>0.211573</td>\n",
       "      <td>-0.240446</td>\n",
       "      <td>-0.719989</td>\n",
       "      <td>-0.960436</td>\n",
       "    </tr>\n",
       "  </tbody>\n",
       "</table>\n",
       "</div>"
      ],
      "text/plain": [
       "         Column1   Column2   Column3   Column4\n",
       "İndex1 -1.414476 -1.013732  0.510791 -0.502941\n",
       "İndex2  0.950290  2.396902 -0.013293  2.383609\n",
       "İndex3 -0.643487  0.400874  1.887348  2.288222\n",
       "İndex4  0.211573 -0.240446 -0.719989 -0.960436"
      ]
     },
     "execution_count": 355,
     "metadata": {},
     "output_type": "execute_result"
    }
   ],
   "source": [
    "newDataFrame['Column4'] = newDataFrame['Column2'] + newDataFrame['Column3']\n",
    "newDataFrame"
   ]
  },
  {
   "cell_type": "code",
   "execution_count": 356,
   "id": "a2ef1e7c",
   "metadata": {},
   "outputs": [
    {
     "data": {
      "text/html": [
       "<div>\n",
       "<style scoped>\n",
       "    .dataframe tbody tr th:only-of-type {\n",
       "        vertical-align: middle;\n",
       "    }\n",
       "\n",
       "    .dataframe tbody tr th {\n",
       "        vertical-align: top;\n",
       "    }\n",
       "\n",
       "    .dataframe thead th {\n",
       "        text-align: right;\n",
       "    }\n",
       "</style>\n",
       "<table border=\"1\" class=\"dataframe\">\n",
       "  <thead>\n",
       "    <tr style=\"text-align: right;\">\n",
       "      <th></th>\n",
       "      <th>Column1</th>\n",
       "      <th>Column2</th>\n",
       "      <th>Column3</th>\n",
       "    </tr>\n",
       "  </thead>\n",
       "  <tbody>\n",
       "    <tr>\n",
       "      <th>İndex1</th>\n",
       "      <td>-1.414476</td>\n",
       "      <td>-1.013732</td>\n",
       "      <td>0.510791</td>\n",
       "    </tr>\n",
       "    <tr>\n",
       "      <th>İndex2</th>\n",
       "      <td>0.950290</td>\n",
       "      <td>2.396902</td>\n",
       "      <td>-0.013293</td>\n",
       "    </tr>\n",
       "    <tr>\n",
       "      <th>İndex3</th>\n",
       "      <td>-0.643487</td>\n",
       "      <td>0.400874</td>\n",
       "      <td>1.887348</td>\n",
       "    </tr>\n",
       "    <tr>\n",
       "      <th>İndex4</th>\n",
       "      <td>0.211573</td>\n",
       "      <td>-0.240446</td>\n",
       "      <td>-0.719989</td>\n",
       "    </tr>\n",
       "  </tbody>\n",
       "</table>\n",
       "</div>"
      ],
      "text/plain": [
       "         Column1   Column2   Column3\n",
       "İndex1 -1.414476 -1.013732  0.510791\n",
       "İndex2  0.950290  2.396902 -0.013293\n",
       "İndex3 -0.643487  0.400874  1.887348\n",
       "İndex4  0.211573 -0.240446 -0.719989"
      ]
     },
     "execution_count": 356,
     "metadata": {},
     "output_type": "execute_result"
    }
   ],
   "source": [
    "newDataFrame =newDataFrame.drop('Column4',axis=1)\n",
    "newDataFrame"
   ]
  },
  {
   "cell_type": "code",
   "execution_count": 357,
   "id": "4257f81e",
   "metadata": {
    "scrolled": true
   },
   "outputs": [
    {
     "data": {
      "text/html": [
       "<div>\n",
       "<style scoped>\n",
       "    .dataframe tbody tr th:only-of-type {\n",
       "        vertical-align: middle;\n",
       "    }\n",
       "\n",
       "    .dataframe tbody tr th {\n",
       "        vertical-align: top;\n",
       "    }\n",
       "\n",
       "    .dataframe thead th {\n",
       "        text-align: right;\n",
       "    }\n",
       "</style>\n",
       "<table border=\"1\" class=\"dataframe\">\n",
       "  <thead>\n",
       "    <tr style=\"text-align: right;\">\n",
       "      <th></th>\n",
       "      <th>Column1</th>\n",
       "      <th>Column2</th>\n",
       "      <th>Column3</th>\n",
       "    </tr>\n",
       "  </thead>\n",
       "  <tbody>\n",
       "    <tr>\n",
       "      <th>İndex1</th>\n",
       "      <td>-1.414476</td>\n",
       "      <td>-1.013732</td>\n",
       "      <td>0.510791</td>\n",
       "    </tr>\n",
       "    <tr>\n",
       "      <th>İndex3</th>\n",
       "      <td>-0.643487</td>\n",
       "      <td>0.400874</td>\n",
       "      <td>1.887348</td>\n",
       "    </tr>\n",
       "    <tr>\n",
       "      <th>İndex4</th>\n",
       "      <td>0.211573</td>\n",
       "      <td>-0.240446</td>\n",
       "      <td>-0.719989</td>\n",
       "    </tr>\n",
       "  </tbody>\n",
       "</table>\n",
       "</div>"
      ],
      "text/plain": [
       "         Column1   Column2   Column3\n",
       "İndex1 -1.414476 -1.013732  0.510791\n",
       "İndex3 -0.643487  0.400874  1.887348\n",
       "İndex4  0.211573 -0.240446 -0.719989"
      ]
     },
     "execution_count": 357,
     "metadata": {},
     "output_type": "execute_result"
    }
   ],
   "source": [
    "newDataFrame.drop('İndex2',axis=0)##Drop metodunda kolon silerken axis belirtmeliyiz.\n",
    "##İndex silerken default 0 oldugu icin belirtmek zorunda degiliz"
   ]
  },
  {
   "cell_type": "code",
   "execution_count": 358,
   "id": "ba044879",
   "metadata": {},
   "outputs": [
    {
     "data": {
      "text/html": [
       "<div>\n",
       "<style scoped>\n",
       "    .dataframe tbody tr th:only-of-type {\n",
       "        vertical-align: middle;\n",
       "    }\n",
       "\n",
       "    .dataframe tbody tr th {\n",
       "        vertical-align: top;\n",
       "    }\n",
       "\n",
       "    .dataframe thead th {\n",
       "        text-align: right;\n",
       "    }\n",
       "</style>\n",
       "<table border=\"1\" class=\"dataframe\">\n",
       "  <thead>\n",
       "    <tr style=\"text-align: right;\">\n",
       "      <th></th>\n",
       "      <th>Column1</th>\n",
       "      <th>Column2</th>\n",
       "      <th>Column3</th>\n",
       "    </tr>\n",
       "  </thead>\n",
       "  <tbody>\n",
       "    <tr>\n",
       "      <th>İndex1</th>\n",
       "      <td>-1.414476</td>\n",
       "      <td>-1.013732</td>\n",
       "      <td>0.510791</td>\n",
       "    </tr>\n",
       "    <tr>\n",
       "      <th>İndex2</th>\n",
       "      <td>0.950290</td>\n",
       "      <td>2.396902</td>\n",
       "      <td>-0.013293</td>\n",
       "    </tr>\n",
       "    <tr>\n",
       "      <th>İndex3</th>\n",
       "      <td>-0.643487</td>\n",
       "      <td>0.400874</td>\n",
       "      <td>1.887348</td>\n",
       "    </tr>\n",
       "    <tr>\n",
       "      <th>İndex4</th>\n",
       "      <td>0.211573</td>\n",
       "      <td>-0.240446</td>\n",
       "      <td>-0.719989</td>\n",
       "    </tr>\n",
       "  </tbody>\n",
       "</table>\n",
       "</div>"
      ],
      "text/plain": [
       "         Column1   Column2   Column3\n",
       "İndex1 -1.414476 -1.013732  0.510791\n",
       "İndex2  0.950290  2.396902 -0.013293\n",
       "İndex3 -0.643487  0.400874  1.887348\n",
       "İndex4  0.211573 -0.240446 -0.719989"
      ]
     },
     "execution_count": 358,
     "metadata": {},
     "output_type": "execute_result"
    }
   ],
   "source": [
    "newDataFrame"
   ]
  },
  {
   "cell_type": "code",
   "execution_count": 359,
   "id": "b4839458",
   "metadata": {},
   "outputs": [
    {
     "data": {
      "text/html": [
       "<div>\n",
       "<style scoped>\n",
       "    .dataframe tbody tr th:only-of-type {\n",
       "        vertical-align: middle;\n",
       "    }\n",
       "\n",
       "    .dataframe tbody tr th {\n",
       "        vertical-align: top;\n",
       "    }\n",
       "\n",
       "    .dataframe thead th {\n",
       "        text-align: right;\n",
       "    }\n",
       "</style>\n",
       "<table border=\"1\" class=\"dataframe\">\n",
       "  <thead>\n",
       "    <tr style=\"text-align: right;\">\n",
       "      <th></th>\n",
       "      <th>Column1</th>\n",
       "      <th>Column2</th>\n",
       "      <th>Column3</th>\n",
       "    </tr>\n",
       "  </thead>\n",
       "  <tbody>\n",
       "    <tr>\n",
       "      <th>İndex1</th>\n",
       "      <td>-1.414476</td>\n",
       "      <td>-1.013732</td>\n",
       "      <td>0.510791</td>\n",
       "    </tr>\n",
       "    <tr>\n",
       "      <th>İndex3</th>\n",
       "      <td>-0.643487</td>\n",
       "      <td>0.400874</td>\n",
       "      <td>1.887348</td>\n",
       "    </tr>\n",
       "    <tr>\n",
       "      <th>İndex4</th>\n",
       "      <td>0.211573</td>\n",
       "      <td>-0.240446</td>\n",
       "      <td>-0.719989</td>\n",
       "    </tr>\n",
       "  </tbody>\n",
       "</table>\n",
       "</div>"
      ],
      "text/plain": [
       "         Column1   Column2   Column3\n",
       "İndex1 -1.414476 -1.013732  0.510791\n",
       "İndex3 -0.643487  0.400874  1.887348\n",
       "İndex4  0.211573 -0.240446 -0.719989"
      ]
     },
     "execution_count": 359,
     "metadata": {},
     "output_type": "execute_result"
    }
   ],
   "source": [
    "newDataFrame.drop('İndex2',axis=0,inplace=True)\n",
    "newDataFrame## İnplace True olursa atama yapmadan kalıcı olarak silebiliyoruz istenen data'yı"
   ]
  },
  {
   "cell_type": "code",
   "execution_count": 360,
   "id": "d7e51cf5",
   "metadata": {},
   "outputs": [
    {
     "data": {
      "text/html": [
       "<div>\n",
       "<style scoped>\n",
       "    .dataframe tbody tr th:only-of-type {\n",
       "        vertical-align: middle;\n",
       "    }\n",
       "\n",
       "    .dataframe tbody tr th {\n",
       "        vertical-align: top;\n",
       "    }\n",
       "\n",
       "    .dataframe thead th {\n",
       "        text-align: right;\n",
       "    }\n",
       "</style>\n",
       "<table border=\"1\" class=\"dataframe\">\n",
       "  <thead>\n",
       "    <tr style=\"text-align: right;\">\n",
       "      <th></th>\n",
       "      <th>Column1</th>\n",
       "      <th>Column2</th>\n",
       "      <th>Column3</th>\n",
       "    </tr>\n",
       "  </thead>\n",
       "  <tbody>\n",
       "    <tr>\n",
       "      <th>İndex1</th>\n",
       "      <td>-1.414476</td>\n",
       "      <td>-1.013732</td>\n",
       "      <td>NaN</td>\n",
       "    </tr>\n",
       "    <tr>\n",
       "      <th>İndex3</th>\n",
       "      <td>-0.643487</td>\n",
       "      <td>NaN</td>\n",
       "      <td>NaN</td>\n",
       "    </tr>\n",
       "    <tr>\n",
       "      <th>İndex4</th>\n",
       "      <td>NaN</td>\n",
       "      <td>-0.240446</td>\n",
       "      <td>-0.719989</td>\n",
       "    </tr>\n",
       "  </tbody>\n",
       "</table>\n",
       "</div>"
      ],
      "text/plain": [
       "         Column1   Column2   Column3\n",
       "İndex1 -1.414476 -1.013732       NaN\n",
       "İndex3 -0.643487       NaN       NaN\n",
       "İndex4       NaN -0.240446 -0.719989"
      ]
     },
     "execution_count": 360,
     "metadata": {},
     "output_type": "execute_result"
    }
   ],
   "source": [
    "newDataFrame[newDataFrame < 0]"
   ]
  },
  {
   "cell_type": "code",
   "execution_count": 361,
   "id": "203e59a2",
   "metadata": {},
   "outputs": [
    {
     "data": {
      "text/html": [
       "<div>\n",
       "<style scoped>\n",
       "    .dataframe tbody tr th:only-of-type {\n",
       "        vertical-align: middle;\n",
       "    }\n",
       "\n",
       "    .dataframe tbody tr th {\n",
       "        vertical-align: top;\n",
       "    }\n",
       "\n",
       "    .dataframe thead th {\n",
       "        text-align: right;\n",
       "    }\n",
       "</style>\n",
       "<table border=\"1\" class=\"dataframe\">\n",
       "  <thead>\n",
       "    <tr style=\"text-align: right;\">\n",
       "      <th></th>\n",
       "      <th>Column1</th>\n",
       "      <th>Column2</th>\n",
       "      <th>Column3</th>\n",
       "    </tr>\n",
       "  </thead>\n",
       "  <tbody>\n",
       "    <tr>\n",
       "      <th>İndex1</th>\n",
       "      <td>True</td>\n",
       "      <td>True</td>\n",
       "      <td>False</td>\n",
       "    </tr>\n",
       "    <tr>\n",
       "      <th>İndex3</th>\n",
       "      <td>True</td>\n",
       "      <td>False</td>\n",
       "      <td>False</td>\n",
       "    </tr>\n",
       "    <tr>\n",
       "      <th>İndex4</th>\n",
       "      <td>False</td>\n",
       "      <td>True</td>\n",
       "      <td>True</td>\n",
       "    </tr>\n",
       "  </tbody>\n",
       "</table>\n",
       "</div>"
      ],
      "text/plain": [
       "        Column1  Column2  Column3\n",
       "İndex1     True     True    False\n",
       "İndex3     True    False    False\n",
       "İndex4    False     True     True"
      ]
     },
     "execution_count": 361,
     "metadata": {},
     "output_type": "execute_result"
    }
   ],
   "source": [
    "newDataFrame <0"
   ]
  },
  {
   "cell_type": "code",
   "execution_count": 362,
   "id": "058c8497",
   "metadata": {},
   "outputs": [
    {
     "data": {
      "text/plain": [
       "İndex1    False\n",
       "İndex3    False\n",
       "İndex4     True\n",
       "Name: Column1, dtype: bool"
      ]
     },
     "execution_count": 362,
     "metadata": {},
     "output_type": "execute_result"
    }
   ],
   "source": [
    "newDataFrame['Column1']>0"
   ]
  },
  {
   "cell_type": "code",
   "execution_count": 363,
   "id": "1d4f5b83",
   "metadata": {},
   "outputs": [
    {
     "data": {
      "text/html": [
       "<div>\n",
       "<style scoped>\n",
       "    .dataframe tbody tr th:only-of-type {\n",
       "        vertical-align: middle;\n",
       "    }\n",
       "\n",
       "    .dataframe tbody tr th {\n",
       "        vertical-align: top;\n",
       "    }\n",
       "\n",
       "    .dataframe thead th {\n",
       "        text-align: right;\n",
       "    }\n",
       "</style>\n",
       "<table border=\"1\" class=\"dataframe\">\n",
       "  <thead>\n",
       "    <tr style=\"text-align: right;\">\n",
       "      <th></th>\n",
       "      <th>Column1</th>\n",
       "      <th>Column2</th>\n",
       "      <th>Column3</th>\n",
       "    </tr>\n",
       "  </thead>\n",
       "  <tbody>\n",
       "    <tr>\n",
       "      <th>İndex4</th>\n",
       "      <td>0.211573</td>\n",
       "      <td>-0.240446</td>\n",
       "      <td>-0.719989</td>\n",
       "    </tr>\n",
       "  </tbody>\n",
       "</table>\n",
       "</div>"
      ],
      "text/plain": [
       "         Column1   Column2   Column3\n",
       "İndex4  0.211573 -0.240446 -0.719989"
      ]
     },
     "execution_count": 363,
     "metadata": {},
     "output_type": "execute_result"
    }
   ],
   "source": [
    "newDataFrame[newDataFrame['Column1']>0]"
   ]
  },
  {
   "cell_type": "code",
   "execution_count": 364,
   "id": "c9bcc34b",
   "metadata": {
    "scrolled": true
   },
   "outputs": [
    {
     "data": {
      "text/html": [
       "<div>\n",
       "<style scoped>\n",
       "    .dataframe tbody tr th:only-of-type {\n",
       "        vertical-align: middle;\n",
       "    }\n",
       "\n",
       "    .dataframe tbody tr th {\n",
       "        vertical-align: top;\n",
       "    }\n",
       "\n",
       "    .dataframe thead th {\n",
       "        text-align: right;\n",
       "    }\n",
       "</style>\n",
       "<table border=\"1\" class=\"dataframe\">\n",
       "  <thead>\n",
       "    <tr style=\"text-align: right;\">\n",
       "      <th></th>\n",
       "      <th>Column1</th>\n",
       "      <th>Column2</th>\n",
       "      <th>Column3</th>\n",
       "    </tr>\n",
       "  </thead>\n",
       "  <tbody>\n",
       "    <tr>\n",
       "      <th>İndex1</th>\n",
       "      <td>-1.414476</td>\n",
       "      <td>-1.013732</td>\n",
       "      <td>0.510791</td>\n",
       "    </tr>\n",
       "    <tr>\n",
       "      <th>İndex3</th>\n",
       "      <td>-0.643487</td>\n",
       "      <td>0.400874</td>\n",
       "      <td>1.887348</td>\n",
       "    </tr>\n",
       "  </tbody>\n",
       "</table>\n",
       "</div>"
      ],
      "text/plain": [
       "         Column1   Column2   Column3\n",
       "İndex1 -1.414476 -1.013732  0.510791\n",
       "İndex3 -0.643487  0.400874  1.887348"
      ]
     },
     "execution_count": 364,
     "metadata": {},
     "output_type": "execute_result"
    }
   ],
   "source": [
    "newDataFrame[newDataFrame['Column1']<0]"
   ]
  },
  {
   "cell_type": "code",
   "execution_count": 365,
   "id": "251c16ca",
   "metadata": {},
   "outputs": [],
   "source": [
    "##İndex Change - Reindex"
   ]
  },
  {
   "cell_type": "code",
   "execution_count": 366,
   "id": "7bfe976f",
   "metadata": {},
   "outputs": [
    {
     "data": {
      "text/html": [
       "<div>\n",
       "<style scoped>\n",
       "    .dataframe tbody tr th:only-of-type {\n",
       "        vertical-align: middle;\n",
       "    }\n",
       "\n",
       "    .dataframe tbody tr th {\n",
       "        vertical-align: top;\n",
       "    }\n",
       "\n",
       "    .dataframe thead th {\n",
       "        text-align: right;\n",
       "    }\n",
       "</style>\n",
       "<table border=\"1\" class=\"dataframe\">\n",
       "  <thead>\n",
       "    <tr style=\"text-align: right;\">\n",
       "      <th></th>\n",
       "      <th>Column1</th>\n",
       "      <th>Column2</th>\n",
       "      <th>Column3</th>\n",
       "    </tr>\n",
       "  </thead>\n",
       "  <tbody>\n",
       "    <tr>\n",
       "      <th>İndex1</th>\n",
       "      <td>-1.414476</td>\n",
       "      <td>-1.013732</td>\n",
       "      <td>0.510791</td>\n",
       "    </tr>\n",
       "    <tr>\n",
       "      <th>İndex2</th>\n",
       "      <td>0.950290</td>\n",
       "      <td>2.396902</td>\n",
       "      <td>-0.013293</td>\n",
       "    </tr>\n",
       "    <tr>\n",
       "      <th>İndex3</th>\n",
       "      <td>-0.643487</td>\n",
       "      <td>0.400874</td>\n",
       "      <td>1.887348</td>\n",
       "    </tr>\n",
       "    <tr>\n",
       "      <th>İndex4</th>\n",
       "      <td>0.211573</td>\n",
       "      <td>-0.240446</td>\n",
       "      <td>-0.719989</td>\n",
       "    </tr>\n",
       "  </tbody>\n",
       "</table>\n",
       "</div>"
      ],
      "text/plain": [
       "         Column1   Column2   Column3\n",
       "İndex1 -1.414476 -1.013732  0.510791\n",
       "İndex2  0.950290  2.396902 -0.013293\n",
       "İndex3 -0.643487  0.400874  1.887348\n",
       "İndex4  0.211573 -0.240446 -0.719989"
      ]
     },
     "execution_count": 366,
     "metadata": {},
     "output_type": "execute_result"
    }
   ],
   "source": [
    "newDataFrame = pd.DataFrame(data,index=['İndex1','İndex2','İndex3','İndex4'],columns=['Column1','Column2','Column3'])\n",
    "newDataFrame"
   ]
  },
  {
   "cell_type": "code",
   "execution_count": 367,
   "id": "b6058b8b",
   "metadata": {},
   "outputs": [
    {
     "data": {
      "text/html": [
       "<div>\n",
       "<style scoped>\n",
       "    .dataframe tbody tr th:only-of-type {\n",
       "        vertical-align: middle;\n",
       "    }\n",
       "\n",
       "    .dataframe tbody tr th {\n",
       "        vertical-align: top;\n",
       "    }\n",
       "\n",
       "    .dataframe thead th {\n",
       "        text-align: right;\n",
       "    }\n",
       "</style>\n",
       "<table border=\"1\" class=\"dataframe\">\n",
       "  <thead>\n",
       "    <tr style=\"text-align: right;\">\n",
       "      <th></th>\n",
       "      <th>index</th>\n",
       "      <th>Column1</th>\n",
       "      <th>Column2</th>\n",
       "      <th>Column3</th>\n",
       "    </tr>\n",
       "  </thead>\n",
       "  <tbody>\n",
       "    <tr>\n",
       "      <th>0</th>\n",
       "      <td>İndex1</td>\n",
       "      <td>-1.414476</td>\n",
       "      <td>-1.013732</td>\n",
       "      <td>0.510791</td>\n",
       "    </tr>\n",
       "    <tr>\n",
       "      <th>1</th>\n",
       "      <td>İndex2</td>\n",
       "      <td>0.950290</td>\n",
       "      <td>2.396902</td>\n",
       "      <td>-0.013293</td>\n",
       "    </tr>\n",
       "    <tr>\n",
       "      <th>2</th>\n",
       "      <td>İndex3</td>\n",
       "      <td>-0.643487</td>\n",
       "      <td>0.400874</td>\n",
       "      <td>1.887348</td>\n",
       "    </tr>\n",
       "    <tr>\n",
       "      <th>3</th>\n",
       "      <td>İndex4</td>\n",
       "      <td>0.211573</td>\n",
       "      <td>-0.240446</td>\n",
       "      <td>-0.719989</td>\n",
       "    </tr>\n",
       "  </tbody>\n",
       "</table>\n",
       "</div>"
      ],
      "text/plain": [
       "    index   Column1   Column2   Column3\n",
       "0  İndex1 -1.414476 -1.013732  0.510791\n",
       "1  İndex2  0.950290  2.396902 -0.013293\n",
       "2  İndex3 -0.643487  0.400874  1.887348\n",
       "3  İndex4  0.211573 -0.240446 -0.719989"
      ]
     },
     "execution_count": 367,
     "metadata": {},
     "output_type": "execute_result"
    }
   ],
   "source": [
    "newDataFrame.reset_index()"
   ]
  },
  {
   "cell_type": "code",
   "execution_count": 368,
   "id": "5f5ba2c8",
   "metadata": {},
   "outputs": [],
   "source": [
    "newİndexList = ['Number1','Number2','Number3','Number4']\n",
    "newDataFrame['New İndex'] = newİndexList"
   ]
  },
  {
   "cell_type": "code",
   "execution_count": 369,
   "id": "29f13a80",
   "metadata": {
    "scrolled": true
   },
   "outputs": [],
   "source": [
    "newDataFrame.set_index('New İndex',inplace=True)"
   ]
  },
  {
   "cell_type": "code",
   "execution_count": 370,
   "id": "98be6cee",
   "metadata": {},
   "outputs": [
    {
     "data": {
      "text/html": [
       "<div>\n",
       "<style scoped>\n",
       "    .dataframe tbody tr th:only-of-type {\n",
       "        vertical-align: middle;\n",
       "    }\n",
       "\n",
       "    .dataframe tbody tr th {\n",
       "        vertical-align: top;\n",
       "    }\n",
       "\n",
       "    .dataframe thead th {\n",
       "        text-align: right;\n",
       "    }\n",
       "</style>\n",
       "<table border=\"1\" class=\"dataframe\">\n",
       "  <thead>\n",
       "    <tr style=\"text-align: right;\">\n",
       "      <th></th>\n",
       "      <th>Column1</th>\n",
       "      <th>Column2</th>\n",
       "      <th>Column3</th>\n",
       "    </tr>\n",
       "    <tr>\n",
       "      <th>New İndex</th>\n",
       "      <th></th>\n",
       "      <th></th>\n",
       "      <th></th>\n",
       "    </tr>\n",
       "  </thead>\n",
       "  <tbody>\n",
       "    <tr>\n",
       "      <th>Number1</th>\n",
       "      <td>-1.414476</td>\n",
       "      <td>-1.013732</td>\n",
       "      <td>0.510791</td>\n",
       "    </tr>\n",
       "    <tr>\n",
       "      <th>Number2</th>\n",
       "      <td>0.950290</td>\n",
       "      <td>2.396902</td>\n",
       "      <td>-0.013293</td>\n",
       "    </tr>\n",
       "    <tr>\n",
       "      <th>Number3</th>\n",
       "      <td>-0.643487</td>\n",
       "      <td>0.400874</td>\n",
       "      <td>1.887348</td>\n",
       "    </tr>\n",
       "    <tr>\n",
       "      <th>Number4</th>\n",
       "      <td>0.211573</td>\n",
       "      <td>-0.240446</td>\n",
       "      <td>-0.719989</td>\n",
       "    </tr>\n",
       "  </tbody>\n",
       "</table>\n",
       "</div>"
      ],
      "text/plain": [
       "            Column1   Column2   Column3\n",
       "New İndex                              \n",
       "Number1   -1.414476 -1.013732  0.510791\n",
       "Number2    0.950290  2.396902 -0.013293\n",
       "Number3   -0.643487  0.400874  1.887348\n",
       "Number4    0.211573 -0.240446 -0.719989"
      ]
     },
     "execution_count": 370,
     "metadata": {},
     "output_type": "execute_result"
    }
   ],
   "source": [
    "newDataFrame"
   ]
  },
  {
   "cell_type": "markdown",
   "id": "2453d03b",
   "metadata": {},
   "source": [
    "## Multi İndex"
   ]
  },
  {
   "cell_type": "code",
   "execution_count": 371,
   "id": "d31a9fa6",
   "metadata": {},
   "outputs": [
    {
     "data": {
      "text/plain": [
       "[('Bmw', 'M5'),\n",
       " ('Bmw', 'M4'),\n",
       " ('Bmw', 'M3'),\n",
       " ('Audi', 'A6'),\n",
       " ('Audi', 'A5'),\n",
       " ('Audi', 'A4')]"
      ]
     },
     "execution_count": 371,
     "metadata": {},
     "output_type": "execute_result"
    }
   ],
   "source": [
    "firstİndexs = ['Bmw','Bmw','Bmw','Audi','Audi','Audi']\n",
    "secondİndex = ['M5','M4','M3','A6','A5','A4']\n",
    "zipList = list(zip(firstİndexs,secondİndex))\n",
    "zipList"
   ]
  },
  {
   "cell_type": "code",
   "execution_count": 372,
   "id": "79219382",
   "metadata": {},
   "outputs": [
    {
     "data": {
      "text/plain": [
       "MultiIndex([( 'Bmw', 'M5'),\n",
       "            ( 'Bmw', 'M4'),\n",
       "            ( 'Bmw', 'M3'),\n",
       "            ('Audi', 'A6'),\n",
       "            ('Audi', 'A5'),\n",
       "            ('Audi', 'A4')],\n",
       "           )"
      ]
     },
     "execution_count": 372,
     "metadata": {},
     "output_type": "execute_result"
    }
   ],
   "source": [
    "jointİndexs = pd.MultiIndex.from_tuples(zipList)\n",
    "jointİndexs"
   ]
  },
  {
   "cell_type": "code",
   "execution_count": 373,
   "id": "dfc3846a",
   "metadata": {},
   "outputs": [
    {
     "data": {
      "text/plain": [
       "pandas.core.indexes.multi.MultiIndex"
      ]
     },
     "execution_count": 373,
     "metadata": {},
     "output_type": "execute_result"
    }
   ],
   "source": [
    "type(jointİndexs)"
   ]
  },
  {
   "cell_type": "code",
   "execution_count": 374,
   "id": "59f64c1d",
   "metadata": {},
   "outputs": [
    {
     "data": {
      "text/plain": [
       "[[300, '50000$'],\n",
       " [280, '40000$'],\n",
       " [260, '30000$'],\n",
       " [250, '50000$'],\n",
       " [260, '40000$'],\n",
       " [270, '30000$']]"
      ]
     },
     "execution_count": 374,
     "metadata": {},
     "output_type": "execute_result"
    }
   ],
   "source": [
    "myCarList = [[300,'50000$'],[280,'40000$'],[260,'30000$'],[250,'50000$'],[260,'40000$'],[270,'30000$']]\n",
    "myCarList"
   ]
  },
  {
   "cell_type": "code",
   "execution_count": 375,
   "id": "55f7d8ac",
   "metadata": {},
   "outputs": [],
   "source": [
    "carDataFrame = pd.DataFrame(myCarList,index=jointİndexs,columns=['Speed','Price'])"
   ]
  },
  {
   "cell_type": "code",
   "execution_count": 376,
   "id": "c8625a49",
   "metadata": {},
   "outputs": [
    {
     "data": {
      "text/html": [
       "<div>\n",
       "<style scoped>\n",
       "    .dataframe tbody tr th:only-of-type {\n",
       "        vertical-align: middle;\n",
       "    }\n",
       "\n",
       "    .dataframe tbody tr th {\n",
       "        vertical-align: top;\n",
       "    }\n",
       "\n",
       "    .dataframe thead th {\n",
       "        text-align: right;\n",
       "    }\n",
       "</style>\n",
       "<table border=\"1\" class=\"dataframe\">\n",
       "  <thead>\n",
       "    <tr style=\"text-align: right;\">\n",
       "      <th></th>\n",
       "      <th></th>\n",
       "      <th>Speed</th>\n",
       "      <th>Price</th>\n",
       "    </tr>\n",
       "  </thead>\n",
       "  <tbody>\n",
       "    <tr>\n",
       "      <th rowspan=\"3\" valign=\"top\">Bmw</th>\n",
       "      <th>M5</th>\n",
       "      <td>300</td>\n",
       "      <td>50000$</td>\n",
       "    </tr>\n",
       "    <tr>\n",
       "      <th>M4</th>\n",
       "      <td>280</td>\n",
       "      <td>40000$</td>\n",
       "    </tr>\n",
       "    <tr>\n",
       "      <th>M3</th>\n",
       "      <td>260</td>\n",
       "      <td>30000$</td>\n",
       "    </tr>\n",
       "    <tr>\n",
       "      <th rowspan=\"3\" valign=\"top\">Audi</th>\n",
       "      <th>A6</th>\n",
       "      <td>250</td>\n",
       "      <td>50000$</td>\n",
       "    </tr>\n",
       "    <tr>\n",
       "      <th>A5</th>\n",
       "      <td>260</td>\n",
       "      <td>40000$</td>\n",
       "    </tr>\n",
       "    <tr>\n",
       "      <th>A4</th>\n",
       "      <td>270</td>\n",
       "      <td>30000$</td>\n",
       "    </tr>\n",
       "  </tbody>\n",
       "</table>\n",
       "</div>"
      ],
      "text/plain": [
       "         Speed   Price\n",
       "Bmw  M5    300  50000$\n",
       "     M4    280  40000$\n",
       "     M3    260  30000$\n",
       "Audi A6    250  50000$\n",
       "     A5    260  40000$\n",
       "     A4    270  30000$"
      ]
     },
     "execution_count": 376,
     "metadata": {},
     "output_type": "execute_result"
    }
   ],
   "source": [
    "carDataFrame"
   ]
  },
  {
   "cell_type": "code",
   "execution_count": 377,
   "id": "5f4d2f02",
   "metadata": {},
   "outputs": [
    {
     "data": {
      "text/html": [
       "<div>\n",
       "<style scoped>\n",
       "    .dataframe tbody tr th:only-of-type {\n",
       "        vertical-align: middle;\n",
       "    }\n",
       "\n",
       "    .dataframe tbody tr th {\n",
       "        vertical-align: top;\n",
       "    }\n",
       "\n",
       "    .dataframe thead th {\n",
       "        text-align: right;\n",
       "    }\n",
       "</style>\n",
       "<table border=\"1\" class=\"dataframe\">\n",
       "  <thead>\n",
       "    <tr style=\"text-align: right;\">\n",
       "      <th></th>\n",
       "      <th>Speed</th>\n",
       "      <th>Price</th>\n",
       "    </tr>\n",
       "  </thead>\n",
       "  <tbody>\n",
       "    <tr>\n",
       "      <th>M5</th>\n",
       "      <td>300</td>\n",
       "      <td>50000$</td>\n",
       "    </tr>\n",
       "    <tr>\n",
       "      <th>M4</th>\n",
       "      <td>280</td>\n",
       "      <td>40000$</td>\n",
       "    </tr>\n",
       "    <tr>\n",
       "      <th>M3</th>\n",
       "      <td>260</td>\n",
       "      <td>30000$</td>\n",
       "    </tr>\n",
       "  </tbody>\n",
       "</table>\n",
       "</div>"
      ],
      "text/plain": [
       "    Speed   Price\n",
       "M5    300  50000$\n",
       "M4    280  40000$\n",
       "M3    260  30000$"
      ]
     },
     "execution_count": 377,
     "metadata": {},
     "output_type": "execute_result"
    }
   ],
   "source": [
    "carDataFrame.loc['Bmw']"
   ]
  },
  {
   "cell_type": "code",
   "execution_count": 378,
   "id": "912e9f3d",
   "metadata": {},
   "outputs": [
    {
     "data": {
      "text/plain": [
       "Speed       250\n",
       "Price    50000$\n",
       "Name: A6, dtype: object"
      ]
     },
     "execution_count": 378,
     "metadata": {},
     "output_type": "execute_result"
    }
   ],
   "source": [
    "carDataFrame.loc['Audi'].loc['A6']"
   ]
  },
  {
   "cell_type": "code",
   "execution_count": 379,
   "id": "c490efff",
   "metadata": {},
   "outputs": [
    {
     "data": {
      "text/html": [
       "<div>\n",
       "<style scoped>\n",
       "    .dataframe tbody tr th:only-of-type {\n",
       "        vertical-align: middle;\n",
       "    }\n",
       "\n",
       "    .dataframe tbody tr th {\n",
       "        vertical-align: top;\n",
       "    }\n",
       "\n",
       "    .dataframe thead th {\n",
       "        text-align: right;\n",
       "    }\n",
       "</style>\n",
       "<table border=\"1\" class=\"dataframe\">\n",
       "  <thead>\n",
       "    <tr style=\"text-align: right;\">\n",
       "      <th></th>\n",
       "      <th></th>\n",
       "      <th>Speed</th>\n",
       "      <th>Price</th>\n",
       "    </tr>\n",
       "    <tr>\n",
       "      <th>Mark</th>\n",
       "      <th>Model</th>\n",
       "      <th></th>\n",
       "      <th></th>\n",
       "    </tr>\n",
       "  </thead>\n",
       "  <tbody>\n",
       "    <tr>\n",
       "      <th rowspan=\"3\" valign=\"top\">Bmw</th>\n",
       "      <th>M5</th>\n",
       "      <td>300</td>\n",
       "      <td>50000$</td>\n",
       "    </tr>\n",
       "    <tr>\n",
       "      <th>M4</th>\n",
       "      <td>280</td>\n",
       "      <td>40000$</td>\n",
       "    </tr>\n",
       "    <tr>\n",
       "      <th>M3</th>\n",
       "      <td>260</td>\n",
       "      <td>30000$</td>\n",
       "    </tr>\n",
       "    <tr>\n",
       "      <th rowspan=\"3\" valign=\"top\">Audi</th>\n",
       "      <th>A6</th>\n",
       "      <td>250</td>\n",
       "      <td>50000$</td>\n",
       "    </tr>\n",
       "    <tr>\n",
       "      <th>A5</th>\n",
       "      <td>260</td>\n",
       "      <td>40000$</td>\n",
       "    </tr>\n",
       "    <tr>\n",
       "      <th>A4</th>\n",
       "      <td>270</td>\n",
       "      <td>30000$</td>\n",
       "    </tr>\n",
       "  </tbody>\n",
       "</table>\n",
       "</div>"
      ],
      "text/plain": [
       "            Speed   Price\n",
       "Mark Model               \n",
       "Bmw  M5       300  50000$\n",
       "     M4       280  40000$\n",
       "     M3       260  30000$\n",
       "Audi A6       250  50000$\n",
       "     A5       260  40000$\n",
       "     A4       270  30000$"
      ]
     },
     "execution_count": 379,
     "metadata": {},
     "output_type": "execute_result"
    }
   ],
   "source": [
    "carDataFrame.index.names = ['Mark','Model']\n",
    "carDataFrame"
   ]
  },
  {
   "cell_type": "code",
   "execution_count": null,
   "id": "12475014",
   "metadata": {},
   "outputs": [],
   "source": []
  }
 ],
 "metadata": {
  "kernelspec": {
   "display_name": "Python 3 (ipykernel)",
   "language": "python",
   "name": "python3"
  },
  "language_info": {
   "codemirror_mode": {
    "name": "ipython",
    "version": 3
   },
   "file_extension": ".py",
   "mimetype": "text/x-python",
   "name": "python",
   "nbconvert_exporter": "python",
   "pygments_lexer": "ipython3",
   "version": "3.9.7"
  }
 },
 "nbformat": 4,
 "nbformat_minor": 5
}
