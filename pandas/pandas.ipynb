{
 "cells": [
  {
   "cell_type": "code",
   "execution_count": 582,
   "id": "9c4b4d55",
   "metadata": {},
   "outputs": [],
   "source": [
    "import pandas as pd\n",
    "import numpy as np"
   ]
  },
  {
   "cell_type": "markdown",
   "id": "716a122d",
   "metadata": {},
   "source": [
    "# Series"
   ]
  },
  {
   "cell_type": "code",
   "execution_count": 583,
   "id": "8ee550f4",
   "metadata": {},
   "outputs": [],
   "source": [
    "dictionary = {'bmw': 'i5','audi': 'a6','volvo': 's90' }"
   ]
  },
  {
   "cell_type": "code",
   "execution_count": 584,
   "id": "c6cb6070",
   "metadata": {},
   "outputs": [
    {
     "data": {
      "text/plain": [
       "bmw       i5\n",
       "audi      a6\n",
       "volvo    s90\n",
       "dtype: object"
      ]
     },
     "execution_count": 584,
     "metadata": {},
     "output_type": "execute_result"
    }
   ],
   "source": [
    "cars = pd.Series(dictionary)\n",
    "pd.Series(dictionary)"
   ]
  },
  {
   "cell_type": "code",
   "execution_count": 585,
   "id": "95b441e4",
   "metadata": {},
   "outputs": [],
   "source": [
    "numpyArray = np.array((50,40,30))"
   ]
  },
  {
   "cell_type": "code",
   "execution_count": 586,
   "id": "20901ad1",
   "metadata": {
    "scrolled": true
   },
   "outputs": [
    {
     "data": {
      "text/plain": [
       "0    50\n",
       "1    40\n",
       "2    30\n",
       "dtype: int32"
      ]
     },
     "execution_count": 586,
     "metadata": {},
     "output_type": "execute_result"
    }
   ],
   "source": [
    "pd.Series(numpyArray)"
   ]
  },
  {
   "cell_type": "code",
   "execution_count": 587,
   "id": "f1a55375",
   "metadata": {},
   "outputs": [],
   "source": [
    "myNumbers = [10,20,30,40]\n",
    "myİndex = ['İndex1','İndex2','İndex3','İndex4']"
   ]
  },
  {
   "cell_type": "code",
   "execution_count": 588,
   "id": "7db11d66",
   "metadata": {},
   "outputs": [
    {
     "data": {
      "text/plain": [
       "İndex1    10\n",
       "İndex2    20\n",
       "İndex3    30\n",
       "İndex4    40\n",
       "dtype: int64"
      ]
     },
     "execution_count": 588,
     "metadata": {},
     "output_type": "execute_result"
    }
   ],
   "source": [
    "pd.Series(data = myNumbers,index = myİndex)"
   ]
  },
  {
   "cell_type": "code",
   "execution_count": 589,
   "id": "3a17c05f",
   "metadata": {},
   "outputs": [
    {
     "data": {
      "text/plain": [
       "'i5'"
      ]
     },
     "execution_count": 589,
     "metadata": {},
     "output_type": "execute_result"
    }
   ],
   "source": [
    "cars['bmw']"
   ]
  },
  {
   "cell_type": "code",
   "execution_count": 590,
   "id": "42dca6bd",
   "metadata": {},
   "outputs": [],
   "source": [
    "carsMaxSpeed = {'bmw': 280,'audi': 260,'volvo': 220}\n",
    "carsMaxSpeed = pd.Series(carsMaxSpeed)"
   ]
  },
  {
   "cell_type": "code",
   "execution_count": 591,
   "id": "de02df58",
   "metadata": {},
   "outputs": [
    {
     "data": {
      "text/plain": [
       "bmw      560\n",
       "audi     520\n",
       "volvo    440\n",
       "dtype: int64"
      ]
     },
     "execution_count": 591,
     "metadata": {},
     "output_type": "execute_result"
    }
   ],
   "source": [
    "carsMaxSpeed = carsMaxSpeed + carsMaxSpeed\n",
    "carsMaxSpeed"
   ]
  },
  {
   "cell_type": "markdown",
   "id": "0990b8dd",
   "metadata": {},
   "source": [
    "# Dataframe"
   ]
  },
  {
   "cell_type": "code",
   "execution_count": 592,
   "id": "75792dc6",
   "metadata": {},
   "outputs": [],
   "source": [
    "## Serilerin bir araya gelmesi ile olusur"
   ]
  },
  {
   "cell_type": "code",
   "execution_count": 593,
   "id": "93c258d2",
   "metadata": {},
   "outputs": [
    {
     "data": {
      "text/plain": [
       "array([[ 0.19255666,  0.47684925,  0.4748891 ],\n",
       "       [ 0.4244346 ,  0.17493227,  1.16617491],\n",
       "       [ 1.30137455, -1.26954426, -0.98067446],\n",
       "       [-0.1749773 ,  0.67862559,  0.62412221]])"
      ]
     },
     "execution_count": 593,
     "metadata": {},
     "output_type": "execute_result"
    }
   ],
   "source": [
    "data = np.random.randn(4,3)\n",
    "data"
   ]
  },
  {
   "cell_type": "code",
   "execution_count": 594,
   "id": "559e44bf",
   "metadata": {},
   "outputs": [
    {
     "data": {
      "text/html": [
       "<div>\n",
       "<style scoped>\n",
       "    .dataframe tbody tr th:only-of-type {\n",
       "        vertical-align: middle;\n",
       "    }\n",
       "\n",
       "    .dataframe tbody tr th {\n",
       "        vertical-align: top;\n",
       "    }\n",
       "\n",
       "    .dataframe thead th {\n",
       "        text-align: right;\n",
       "    }\n",
       "</style>\n",
       "<table border=\"1\" class=\"dataframe\">\n",
       "  <thead>\n",
       "    <tr style=\"text-align: right;\">\n",
       "      <th></th>\n",
       "      <th>0</th>\n",
       "      <th>1</th>\n",
       "      <th>2</th>\n",
       "    </tr>\n",
       "  </thead>\n",
       "  <tbody>\n",
       "    <tr>\n",
       "      <th>0</th>\n",
       "      <td>0.192557</td>\n",
       "      <td>0.476849</td>\n",
       "      <td>0.474889</td>\n",
       "    </tr>\n",
       "    <tr>\n",
       "      <th>1</th>\n",
       "      <td>0.424435</td>\n",
       "      <td>0.174932</td>\n",
       "      <td>1.166175</td>\n",
       "    </tr>\n",
       "    <tr>\n",
       "      <th>2</th>\n",
       "      <td>1.301375</td>\n",
       "      <td>-1.269544</td>\n",
       "      <td>-0.980674</td>\n",
       "    </tr>\n",
       "    <tr>\n",
       "      <th>3</th>\n",
       "      <td>-0.174977</td>\n",
       "      <td>0.678626</td>\n",
       "      <td>0.624122</td>\n",
       "    </tr>\n",
       "  </tbody>\n",
       "</table>\n",
       "</div>"
      ],
      "text/plain": [
       "          0         1         2\n",
       "0  0.192557  0.476849  0.474889\n",
       "1  0.424435  0.174932  1.166175\n",
       "2  1.301375 -1.269544 -0.980674\n",
       "3 -0.174977  0.678626  0.624122"
      ]
     },
     "execution_count": 594,
     "metadata": {},
     "output_type": "execute_result"
    }
   ],
   "source": [
    "df = pd.DataFrame(data)\n",
    "df"
   ]
  },
  {
   "cell_type": "code",
   "execution_count": 595,
   "id": "7b41900a",
   "metadata": {},
   "outputs": [
    {
     "data": {
      "text/plain": [
       "0    0.192557\n",
       "1    0.424435\n",
       "2    1.301375\n",
       "3   -0.174977\n",
       "Name: 0, dtype: float64"
      ]
     },
     "execution_count": 595,
     "metadata": {},
     "output_type": "execute_result"
    }
   ],
   "source": [
    "df[0]"
   ]
  },
  {
   "cell_type": "code",
   "execution_count": 596,
   "id": "055adb31",
   "metadata": {},
   "outputs": [
    {
     "data": {
      "text/plain": [
       "0.192556658640215"
      ]
     },
     "execution_count": 596,
     "metadata": {},
     "output_type": "execute_result"
    }
   ],
   "source": [
    "df[0][0]"
   ]
  },
  {
   "cell_type": "code",
   "execution_count": 597,
   "id": "52e0694b",
   "metadata": {},
   "outputs": [
    {
     "data": {
      "text/html": [
       "<div>\n",
       "<style scoped>\n",
       "    .dataframe tbody tr th:only-of-type {\n",
       "        vertical-align: middle;\n",
       "    }\n",
       "\n",
       "    .dataframe tbody tr th {\n",
       "        vertical-align: top;\n",
       "    }\n",
       "\n",
       "    .dataframe thead th {\n",
       "        text-align: right;\n",
       "    }\n",
       "</style>\n",
       "<table border=\"1\" class=\"dataframe\">\n",
       "  <thead>\n",
       "    <tr style=\"text-align: right;\">\n",
       "      <th></th>\n",
       "      <th>Column1</th>\n",
       "      <th>Column2</th>\n",
       "      <th>Column3</th>\n",
       "    </tr>\n",
       "  </thead>\n",
       "  <tbody>\n",
       "    <tr>\n",
       "      <th>İndex1</th>\n",
       "      <td>0.192557</td>\n",
       "      <td>0.476849</td>\n",
       "      <td>0.474889</td>\n",
       "    </tr>\n",
       "    <tr>\n",
       "      <th>İndex2</th>\n",
       "      <td>0.424435</td>\n",
       "      <td>0.174932</td>\n",
       "      <td>1.166175</td>\n",
       "    </tr>\n",
       "    <tr>\n",
       "      <th>İndex3</th>\n",
       "      <td>1.301375</td>\n",
       "      <td>-1.269544</td>\n",
       "      <td>-0.980674</td>\n",
       "    </tr>\n",
       "    <tr>\n",
       "      <th>İndex4</th>\n",
       "      <td>-0.174977</td>\n",
       "      <td>0.678626</td>\n",
       "      <td>0.624122</td>\n",
       "    </tr>\n",
       "  </tbody>\n",
       "</table>\n",
       "</div>"
      ],
      "text/plain": [
       "         Column1   Column2   Column3\n",
       "İndex1  0.192557  0.476849  0.474889\n",
       "İndex2  0.424435  0.174932  1.166175\n",
       "İndex3  1.301375 -1.269544 -0.980674\n",
       "İndex4 -0.174977  0.678626  0.624122"
      ]
     },
     "execution_count": 597,
     "metadata": {},
     "output_type": "execute_result"
    }
   ],
   "source": [
    "newDataFrame = pd.DataFrame(data,index=['İndex1','İndex2','İndex3','İndex4'],columns=['Column1','Column2','Column3'])\n",
    "newDataFrame"
   ]
  },
  {
   "cell_type": "code",
   "execution_count": 598,
   "id": "f1407a4f",
   "metadata": {},
   "outputs": [
    {
     "data": {
      "text/plain": [
       "İndex1    0.192557\n",
       "İndex2    0.424435\n",
       "İndex3    1.301375\n",
       "İndex4   -0.174977\n",
       "Name: Column1, dtype: float64"
      ]
     },
     "execution_count": 598,
     "metadata": {},
     "output_type": "execute_result"
    }
   ],
   "source": [
    "newDataFrame['Column1']"
   ]
  },
  {
   "cell_type": "code",
   "execution_count": 599,
   "id": "28c523cf",
   "metadata": {},
   "outputs": [
    {
     "data": {
      "text/plain": [
       "-1.26954426383135"
      ]
     },
     "execution_count": 599,
     "metadata": {},
     "output_type": "execute_result"
    }
   ],
   "source": [
    "newDataFrame['Column2']['İndex3']"
   ]
  },
  {
   "cell_type": "code",
   "execution_count": 600,
   "id": "8f116299",
   "metadata": {},
   "outputs": [
    {
     "data": {
      "text/plain": [
       "Column1    0.424435\n",
       "Column2    0.174932\n",
       "Column3    1.166175\n",
       "Name: İndex2, dtype: float64"
      ]
     },
     "execution_count": 600,
     "metadata": {},
     "output_type": "execute_result"
    }
   ],
   "source": [
    "newDataFrame.iloc[1]#İndex Location"
   ]
  },
  {
   "cell_type": "code",
   "execution_count": 601,
   "id": "c5142c68",
   "metadata": {},
   "outputs": [
    {
     "data": {
      "text/html": [
       "<div>\n",
       "<style scoped>\n",
       "    .dataframe tbody tr th:only-of-type {\n",
       "        vertical-align: middle;\n",
       "    }\n",
       "\n",
       "    .dataframe tbody tr th {\n",
       "        vertical-align: top;\n",
       "    }\n",
       "\n",
       "    .dataframe thead th {\n",
       "        text-align: right;\n",
       "    }\n",
       "</style>\n",
       "<table border=\"1\" class=\"dataframe\">\n",
       "  <thead>\n",
       "    <tr style=\"text-align: right;\">\n",
       "      <th></th>\n",
       "      <th>Column1</th>\n",
       "      <th>Column2</th>\n",
       "      <th>Column3</th>\n",
       "      <th>Column4</th>\n",
       "    </tr>\n",
       "  </thead>\n",
       "  <tbody>\n",
       "    <tr>\n",
       "      <th>İndex1</th>\n",
       "      <td>0.192557</td>\n",
       "      <td>0.476849</td>\n",
       "      <td>0.474889</td>\n",
       "      <td>0.951738</td>\n",
       "    </tr>\n",
       "    <tr>\n",
       "      <th>İndex2</th>\n",
       "      <td>0.424435</td>\n",
       "      <td>0.174932</td>\n",
       "      <td>1.166175</td>\n",
       "      <td>1.341107</td>\n",
       "    </tr>\n",
       "    <tr>\n",
       "      <th>İndex3</th>\n",
       "      <td>1.301375</td>\n",
       "      <td>-1.269544</td>\n",
       "      <td>-0.980674</td>\n",
       "      <td>-2.250219</td>\n",
       "    </tr>\n",
       "    <tr>\n",
       "      <th>İndex4</th>\n",
       "      <td>-0.174977</td>\n",
       "      <td>0.678626</td>\n",
       "      <td>0.624122</td>\n",
       "      <td>1.302748</td>\n",
       "    </tr>\n",
       "  </tbody>\n",
       "</table>\n",
       "</div>"
      ],
      "text/plain": [
       "         Column1   Column2   Column3   Column4\n",
       "İndex1  0.192557  0.476849  0.474889  0.951738\n",
       "İndex2  0.424435  0.174932  1.166175  1.341107\n",
       "İndex3  1.301375 -1.269544 -0.980674 -2.250219\n",
       "İndex4 -0.174977  0.678626  0.624122  1.302748"
      ]
     },
     "execution_count": 601,
     "metadata": {},
     "output_type": "execute_result"
    }
   ],
   "source": [
    "newDataFrame['Column4'] = newDataFrame['Column2'] + newDataFrame['Column3']\n",
    "newDataFrame"
   ]
  },
  {
   "cell_type": "code",
   "execution_count": 602,
   "id": "eeb9a48f",
   "metadata": {},
   "outputs": [
    {
     "data": {
      "text/html": [
       "<div>\n",
       "<style scoped>\n",
       "    .dataframe tbody tr th:only-of-type {\n",
       "        vertical-align: middle;\n",
       "    }\n",
       "\n",
       "    .dataframe tbody tr th {\n",
       "        vertical-align: top;\n",
       "    }\n",
       "\n",
       "    .dataframe thead th {\n",
       "        text-align: right;\n",
       "    }\n",
       "</style>\n",
       "<table border=\"1\" class=\"dataframe\">\n",
       "  <thead>\n",
       "    <tr style=\"text-align: right;\">\n",
       "      <th></th>\n",
       "      <th>Column1</th>\n",
       "      <th>Column2</th>\n",
       "      <th>Column3</th>\n",
       "    </tr>\n",
       "  </thead>\n",
       "  <tbody>\n",
       "    <tr>\n",
       "      <th>İndex1</th>\n",
       "      <td>0.192557</td>\n",
       "      <td>0.476849</td>\n",
       "      <td>0.474889</td>\n",
       "    </tr>\n",
       "    <tr>\n",
       "      <th>İndex2</th>\n",
       "      <td>0.424435</td>\n",
       "      <td>0.174932</td>\n",
       "      <td>1.166175</td>\n",
       "    </tr>\n",
       "    <tr>\n",
       "      <th>İndex3</th>\n",
       "      <td>1.301375</td>\n",
       "      <td>-1.269544</td>\n",
       "      <td>-0.980674</td>\n",
       "    </tr>\n",
       "    <tr>\n",
       "      <th>İndex4</th>\n",
       "      <td>-0.174977</td>\n",
       "      <td>0.678626</td>\n",
       "      <td>0.624122</td>\n",
       "    </tr>\n",
       "  </tbody>\n",
       "</table>\n",
       "</div>"
      ],
      "text/plain": [
       "         Column1   Column2   Column3\n",
       "İndex1  0.192557  0.476849  0.474889\n",
       "İndex2  0.424435  0.174932  1.166175\n",
       "İndex3  1.301375 -1.269544 -0.980674\n",
       "İndex4 -0.174977  0.678626  0.624122"
      ]
     },
     "execution_count": 602,
     "metadata": {},
     "output_type": "execute_result"
    }
   ],
   "source": [
    "newDataFrame =newDataFrame.drop('Column4',axis=1)\n",
    "newDataFrame"
   ]
  },
  {
   "cell_type": "code",
   "execution_count": 603,
   "id": "40a867b4",
   "metadata": {
    "scrolled": true
   },
   "outputs": [
    {
     "data": {
      "text/html": [
       "<div>\n",
       "<style scoped>\n",
       "    .dataframe tbody tr th:only-of-type {\n",
       "        vertical-align: middle;\n",
       "    }\n",
       "\n",
       "    .dataframe tbody tr th {\n",
       "        vertical-align: top;\n",
       "    }\n",
       "\n",
       "    .dataframe thead th {\n",
       "        text-align: right;\n",
       "    }\n",
       "</style>\n",
       "<table border=\"1\" class=\"dataframe\">\n",
       "  <thead>\n",
       "    <tr style=\"text-align: right;\">\n",
       "      <th></th>\n",
       "      <th>Column1</th>\n",
       "      <th>Column2</th>\n",
       "      <th>Column3</th>\n",
       "    </tr>\n",
       "  </thead>\n",
       "  <tbody>\n",
       "    <tr>\n",
       "      <th>İndex1</th>\n",
       "      <td>0.192557</td>\n",
       "      <td>0.476849</td>\n",
       "      <td>0.474889</td>\n",
       "    </tr>\n",
       "    <tr>\n",
       "      <th>İndex3</th>\n",
       "      <td>1.301375</td>\n",
       "      <td>-1.269544</td>\n",
       "      <td>-0.980674</td>\n",
       "    </tr>\n",
       "    <tr>\n",
       "      <th>İndex4</th>\n",
       "      <td>-0.174977</td>\n",
       "      <td>0.678626</td>\n",
       "      <td>0.624122</td>\n",
       "    </tr>\n",
       "  </tbody>\n",
       "</table>\n",
       "</div>"
      ],
      "text/plain": [
       "         Column1   Column2   Column3\n",
       "İndex1  0.192557  0.476849  0.474889\n",
       "İndex3  1.301375 -1.269544 -0.980674\n",
       "İndex4 -0.174977  0.678626  0.624122"
      ]
     },
     "execution_count": 603,
     "metadata": {},
     "output_type": "execute_result"
    }
   ],
   "source": [
    "newDataFrame.drop('İndex2',axis=0)##Drop metodunda kolon silerken axis belirtmeliyiz.\n",
    "##İndex silerken default 0 oldugu icin belirtmek zorunda degiliz"
   ]
  },
  {
   "cell_type": "code",
   "execution_count": 604,
   "id": "a6366252",
   "metadata": {},
   "outputs": [
    {
     "data": {
      "text/html": [
       "<div>\n",
       "<style scoped>\n",
       "    .dataframe tbody tr th:only-of-type {\n",
       "        vertical-align: middle;\n",
       "    }\n",
       "\n",
       "    .dataframe tbody tr th {\n",
       "        vertical-align: top;\n",
       "    }\n",
       "\n",
       "    .dataframe thead th {\n",
       "        text-align: right;\n",
       "    }\n",
       "</style>\n",
       "<table border=\"1\" class=\"dataframe\">\n",
       "  <thead>\n",
       "    <tr style=\"text-align: right;\">\n",
       "      <th></th>\n",
       "      <th>Column1</th>\n",
       "      <th>Column2</th>\n",
       "      <th>Column3</th>\n",
       "    </tr>\n",
       "  </thead>\n",
       "  <tbody>\n",
       "    <tr>\n",
       "      <th>İndex1</th>\n",
       "      <td>0.192557</td>\n",
       "      <td>0.476849</td>\n",
       "      <td>0.474889</td>\n",
       "    </tr>\n",
       "    <tr>\n",
       "      <th>İndex2</th>\n",
       "      <td>0.424435</td>\n",
       "      <td>0.174932</td>\n",
       "      <td>1.166175</td>\n",
       "    </tr>\n",
       "    <tr>\n",
       "      <th>İndex3</th>\n",
       "      <td>1.301375</td>\n",
       "      <td>-1.269544</td>\n",
       "      <td>-0.980674</td>\n",
       "    </tr>\n",
       "    <tr>\n",
       "      <th>İndex4</th>\n",
       "      <td>-0.174977</td>\n",
       "      <td>0.678626</td>\n",
       "      <td>0.624122</td>\n",
       "    </tr>\n",
       "  </tbody>\n",
       "</table>\n",
       "</div>"
      ],
      "text/plain": [
       "         Column1   Column2   Column3\n",
       "İndex1  0.192557  0.476849  0.474889\n",
       "İndex2  0.424435  0.174932  1.166175\n",
       "İndex3  1.301375 -1.269544 -0.980674\n",
       "İndex4 -0.174977  0.678626  0.624122"
      ]
     },
     "execution_count": 604,
     "metadata": {},
     "output_type": "execute_result"
    }
   ],
   "source": [
    "newDataFrame"
   ]
  },
  {
   "cell_type": "code",
   "execution_count": 605,
   "id": "26997ccc",
   "metadata": {},
   "outputs": [
    {
     "data": {
      "text/html": [
       "<div>\n",
       "<style scoped>\n",
       "    .dataframe tbody tr th:only-of-type {\n",
       "        vertical-align: middle;\n",
       "    }\n",
       "\n",
       "    .dataframe tbody tr th {\n",
       "        vertical-align: top;\n",
       "    }\n",
       "\n",
       "    .dataframe thead th {\n",
       "        text-align: right;\n",
       "    }\n",
       "</style>\n",
       "<table border=\"1\" class=\"dataframe\">\n",
       "  <thead>\n",
       "    <tr style=\"text-align: right;\">\n",
       "      <th></th>\n",
       "      <th>Column1</th>\n",
       "      <th>Column2</th>\n",
       "      <th>Column3</th>\n",
       "    </tr>\n",
       "  </thead>\n",
       "  <tbody>\n",
       "    <tr>\n",
       "      <th>İndex1</th>\n",
       "      <td>0.192557</td>\n",
       "      <td>0.476849</td>\n",
       "      <td>0.474889</td>\n",
       "    </tr>\n",
       "    <tr>\n",
       "      <th>İndex3</th>\n",
       "      <td>1.301375</td>\n",
       "      <td>-1.269544</td>\n",
       "      <td>-0.980674</td>\n",
       "    </tr>\n",
       "    <tr>\n",
       "      <th>İndex4</th>\n",
       "      <td>-0.174977</td>\n",
       "      <td>0.678626</td>\n",
       "      <td>0.624122</td>\n",
       "    </tr>\n",
       "  </tbody>\n",
       "</table>\n",
       "</div>"
      ],
      "text/plain": [
       "         Column1   Column2   Column3\n",
       "İndex1  0.192557  0.476849  0.474889\n",
       "İndex3  1.301375 -1.269544 -0.980674\n",
       "İndex4 -0.174977  0.678626  0.624122"
      ]
     },
     "execution_count": 605,
     "metadata": {},
     "output_type": "execute_result"
    }
   ],
   "source": [
    "newDataFrame.drop('İndex2',axis=0,inplace=True)\n",
    "newDataFrame## İnplace True olursa atama yapmadan kalıcı olarak silebiliyoruz istenen data'yı"
   ]
  },
  {
   "cell_type": "code",
   "execution_count": 606,
   "id": "fdfff816",
   "metadata": {},
   "outputs": [
    {
     "data": {
      "text/html": [
       "<div>\n",
       "<style scoped>\n",
       "    .dataframe tbody tr th:only-of-type {\n",
       "        vertical-align: middle;\n",
       "    }\n",
       "\n",
       "    .dataframe tbody tr th {\n",
       "        vertical-align: top;\n",
       "    }\n",
       "\n",
       "    .dataframe thead th {\n",
       "        text-align: right;\n",
       "    }\n",
       "</style>\n",
       "<table border=\"1\" class=\"dataframe\">\n",
       "  <thead>\n",
       "    <tr style=\"text-align: right;\">\n",
       "      <th></th>\n",
       "      <th>Column1</th>\n",
       "      <th>Column2</th>\n",
       "      <th>Column3</th>\n",
       "    </tr>\n",
       "  </thead>\n",
       "  <tbody>\n",
       "    <tr>\n",
       "      <th>İndex1</th>\n",
       "      <td>NaN</td>\n",
       "      <td>NaN</td>\n",
       "      <td>NaN</td>\n",
       "    </tr>\n",
       "    <tr>\n",
       "      <th>İndex3</th>\n",
       "      <td>NaN</td>\n",
       "      <td>-1.269544</td>\n",
       "      <td>-0.980674</td>\n",
       "    </tr>\n",
       "    <tr>\n",
       "      <th>İndex4</th>\n",
       "      <td>-0.174977</td>\n",
       "      <td>NaN</td>\n",
       "      <td>NaN</td>\n",
       "    </tr>\n",
       "  </tbody>\n",
       "</table>\n",
       "</div>"
      ],
      "text/plain": [
       "         Column1   Column2   Column3\n",
       "İndex1       NaN       NaN       NaN\n",
       "İndex3       NaN -1.269544 -0.980674\n",
       "İndex4 -0.174977       NaN       NaN"
      ]
     },
     "execution_count": 606,
     "metadata": {},
     "output_type": "execute_result"
    }
   ],
   "source": [
    "newDataFrame[newDataFrame < 0]"
   ]
  },
  {
   "cell_type": "code",
   "execution_count": 607,
   "id": "c35f1ae9",
   "metadata": {},
   "outputs": [
    {
     "data": {
      "text/html": [
       "<div>\n",
       "<style scoped>\n",
       "    .dataframe tbody tr th:only-of-type {\n",
       "        vertical-align: middle;\n",
       "    }\n",
       "\n",
       "    .dataframe tbody tr th {\n",
       "        vertical-align: top;\n",
       "    }\n",
       "\n",
       "    .dataframe thead th {\n",
       "        text-align: right;\n",
       "    }\n",
       "</style>\n",
       "<table border=\"1\" class=\"dataframe\">\n",
       "  <thead>\n",
       "    <tr style=\"text-align: right;\">\n",
       "      <th></th>\n",
       "      <th>Column1</th>\n",
       "      <th>Column2</th>\n",
       "      <th>Column3</th>\n",
       "    </tr>\n",
       "  </thead>\n",
       "  <tbody>\n",
       "    <tr>\n",
       "      <th>İndex1</th>\n",
       "      <td>False</td>\n",
       "      <td>False</td>\n",
       "      <td>False</td>\n",
       "    </tr>\n",
       "    <tr>\n",
       "      <th>İndex3</th>\n",
       "      <td>False</td>\n",
       "      <td>True</td>\n",
       "      <td>True</td>\n",
       "    </tr>\n",
       "    <tr>\n",
       "      <th>İndex4</th>\n",
       "      <td>True</td>\n",
       "      <td>False</td>\n",
       "      <td>False</td>\n",
       "    </tr>\n",
       "  </tbody>\n",
       "</table>\n",
       "</div>"
      ],
      "text/plain": [
       "        Column1  Column2  Column3\n",
       "İndex1    False    False    False\n",
       "İndex3    False     True     True\n",
       "İndex4     True    False    False"
      ]
     },
     "execution_count": 607,
     "metadata": {},
     "output_type": "execute_result"
    }
   ],
   "source": [
    "newDataFrame <0"
   ]
  },
  {
   "cell_type": "code",
   "execution_count": 608,
   "id": "344d47c0",
   "metadata": {},
   "outputs": [
    {
     "data": {
      "text/plain": [
       "İndex1     True\n",
       "İndex3     True\n",
       "İndex4    False\n",
       "Name: Column1, dtype: bool"
      ]
     },
     "execution_count": 608,
     "metadata": {},
     "output_type": "execute_result"
    }
   ],
   "source": [
    "newDataFrame['Column1']>0"
   ]
  },
  {
   "cell_type": "code",
   "execution_count": 609,
   "id": "3f10b481",
   "metadata": {},
   "outputs": [
    {
     "data": {
      "text/html": [
       "<div>\n",
       "<style scoped>\n",
       "    .dataframe tbody tr th:only-of-type {\n",
       "        vertical-align: middle;\n",
       "    }\n",
       "\n",
       "    .dataframe tbody tr th {\n",
       "        vertical-align: top;\n",
       "    }\n",
       "\n",
       "    .dataframe thead th {\n",
       "        text-align: right;\n",
       "    }\n",
       "</style>\n",
       "<table border=\"1\" class=\"dataframe\">\n",
       "  <thead>\n",
       "    <tr style=\"text-align: right;\">\n",
       "      <th></th>\n",
       "      <th>Column1</th>\n",
       "      <th>Column2</th>\n",
       "      <th>Column3</th>\n",
       "    </tr>\n",
       "  </thead>\n",
       "  <tbody>\n",
       "    <tr>\n",
       "      <th>İndex1</th>\n",
       "      <td>0.192557</td>\n",
       "      <td>0.476849</td>\n",
       "      <td>0.474889</td>\n",
       "    </tr>\n",
       "    <tr>\n",
       "      <th>İndex3</th>\n",
       "      <td>1.301375</td>\n",
       "      <td>-1.269544</td>\n",
       "      <td>-0.980674</td>\n",
       "    </tr>\n",
       "  </tbody>\n",
       "</table>\n",
       "</div>"
      ],
      "text/plain": [
       "         Column1   Column2   Column3\n",
       "İndex1  0.192557  0.476849  0.474889\n",
       "İndex3  1.301375 -1.269544 -0.980674"
      ]
     },
     "execution_count": 609,
     "metadata": {},
     "output_type": "execute_result"
    }
   ],
   "source": [
    "newDataFrame[newDataFrame['Column1']>0]"
   ]
  },
  {
   "cell_type": "code",
   "execution_count": 610,
   "id": "ad347ba7",
   "metadata": {
    "scrolled": true
   },
   "outputs": [
    {
     "data": {
      "text/html": [
       "<div>\n",
       "<style scoped>\n",
       "    .dataframe tbody tr th:only-of-type {\n",
       "        vertical-align: middle;\n",
       "    }\n",
       "\n",
       "    .dataframe tbody tr th {\n",
       "        vertical-align: top;\n",
       "    }\n",
       "\n",
       "    .dataframe thead th {\n",
       "        text-align: right;\n",
       "    }\n",
       "</style>\n",
       "<table border=\"1\" class=\"dataframe\">\n",
       "  <thead>\n",
       "    <tr style=\"text-align: right;\">\n",
       "      <th></th>\n",
       "      <th>Column1</th>\n",
       "      <th>Column2</th>\n",
       "      <th>Column3</th>\n",
       "    </tr>\n",
       "  </thead>\n",
       "  <tbody>\n",
       "    <tr>\n",
       "      <th>İndex4</th>\n",
       "      <td>-0.174977</td>\n",
       "      <td>0.678626</td>\n",
       "      <td>0.624122</td>\n",
       "    </tr>\n",
       "  </tbody>\n",
       "</table>\n",
       "</div>"
      ],
      "text/plain": [
       "         Column1   Column2   Column3\n",
       "İndex4 -0.174977  0.678626  0.624122"
      ]
     },
     "execution_count": 610,
     "metadata": {},
     "output_type": "execute_result"
    }
   ],
   "source": [
    "newDataFrame[newDataFrame['Column1']<0]"
   ]
  },
  {
   "cell_type": "code",
   "execution_count": 611,
   "id": "1cd03aa0",
   "metadata": {},
   "outputs": [],
   "source": [
    "##İndex Change - Reindex"
   ]
  },
  {
   "cell_type": "code",
   "execution_count": 612,
   "id": "98ef3fb7",
   "metadata": {},
   "outputs": [
    {
     "data": {
      "text/html": [
       "<div>\n",
       "<style scoped>\n",
       "    .dataframe tbody tr th:only-of-type {\n",
       "        vertical-align: middle;\n",
       "    }\n",
       "\n",
       "    .dataframe tbody tr th {\n",
       "        vertical-align: top;\n",
       "    }\n",
       "\n",
       "    .dataframe thead th {\n",
       "        text-align: right;\n",
       "    }\n",
       "</style>\n",
       "<table border=\"1\" class=\"dataframe\">\n",
       "  <thead>\n",
       "    <tr style=\"text-align: right;\">\n",
       "      <th></th>\n",
       "      <th>Column1</th>\n",
       "      <th>Column2</th>\n",
       "      <th>Column3</th>\n",
       "    </tr>\n",
       "  </thead>\n",
       "  <tbody>\n",
       "    <tr>\n",
       "      <th>İndex1</th>\n",
       "      <td>0.192557</td>\n",
       "      <td>0.476849</td>\n",
       "      <td>0.474889</td>\n",
       "    </tr>\n",
       "    <tr>\n",
       "      <th>İndex2</th>\n",
       "      <td>0.424435</td>\n",
       "      <td>0.174932</td>\n",
       "      <td>1.166175</td>\n",
       "    </tr>\n",
       "    <tr>\n",
       "      <th>İndex3</th>\n",
       "      <td>1.301375</td>\n",
       "      <td>-1.269544</td>\n",
       "      <td>-0.980674</td>\n",
       "    </tr>\n",
       "    <tr>\n",
       "      <th>İndex4</th>\n",
       "      <td>-0.174977</td>\n",
       "      <td>0.678626</td>\n",
       "      <td>0.624122</td>\n",
       "    </tr>\n",
       "  </tbody>\n",
       "</table>\n",
       "</div>"
      ],
      "text/plain": [
       "         Column1   Column2   Column3\n",
       "İndex1  0.192557  0.476849  0.474889\n",
       "İndex2  0.424435  0.174932  1.166175\n",
       "İndex3  1.301375 -1.269544 -0.980674\n",
       "İndex4 -0.174977  0.678626  0.624122"
      ]
     },
     "execution_count": 612,
     "metadata": {},
     "output_type": "execute_result"
    }
   ],
   "source": [
    "newDataFrame = pd.DataFrame(data,index=['İndex1','İndex2','İndex3','İndex4'],columns=['Column1','Column2','Column3'])\n",
    "newDataFrame"
   ]
  },
  {
   "cell_type": "code",
   "execution_count": 613,
   "id": "7f2bd49b",
   "metadata": {},
   "outputs": [
    {
     "data": {
      "text/html": [
       "<div>\n",
       "<style scoped>\n",
       "    .dataframe tbody tr th:only-of-type {\n",
       "        vertical-align: middle;\n",
       "    }\n",
       "\n",
       "    .dataframe tbody tr th {\n",
       "        vertical-align: top;\n",
       "    }\n",
       "\n",
       "    .dataframe thead th {\n",
       "        text-align: right;\n",
       "    }\n",
       "</style>\n",
       "<table border=\"1\" class=\"dataframe\">\n",
       "  <thead>\n",
       "    <tr style=\"text-align: right;\">\n",
       "      <th></th>\n",
       "      <th>index</th>\n",
       "      <th>Column1</th>\n",
       "      <th>Column2</th>\n",
       "      <th>Column3</th>\n",
       "    </tr>\n",
       "  </thead>\n",
       "  <tbody>\n",
       "    <tr>\n",
       "      <th>0</th>\n",
       "      <td>İndex1</td>\n",
       "      <td>0.192557</td>\n",
       "      <td>0.476849</td>\n",
       "      <td>0.474889</td>\n",
       "    </tr>\n",
       "    <tr>\n",
       "      <th>1</th>\n",
       "      <td>İndex2</td>\n",
       "      <td>0.424435</td>\n",
       "      <td>0.174932</td>\n",
       "      <td>1.166175</td>\n",
       "    </tr>\n",
       "    <tr>\n",
       "      <th>2</th>\n",
       "      <td>İndex3</td>\n",
       "      <td>1.301375</td>\n",
       "      <td>-1.269544</td>\n",
       "      <td>-0.980674</td>\n",
       "    </tr>\n",
       "    <tr>\n",
       "      <th>3</th>\n",
       "      <td>İndex4</td>\n",
       "      <td>-0.174977</td>\n",
       "      <td>0.678626</td>\n",
       "      <td>0.624122</td>\n",
       "    </tr>\n",
       "  </tbody>\n",
       "</table>\n",
       "</div>"
      ],
      "text/plain": [
       "    index   Column1   Column2   Column3\n",
       "0  İndex1  0.192557  0.476849  0.474889\n",
       "1  İndex2  0.424435  0.174932  1.166175\n",
       "2  İndex3  1.301375 -1.269544 -0.980674\n",
       "3  İndex4 -0.174977  0.678626  0.624122"
      ]
     },
     "execution_count": 613,
     "metadata": {},
     "output_type": "execute_result"
    }
   ],
   "source": [
    "newDataFrame.reset_index()"
   ]
  },
  {
   "cell_type": "code",
   "execution_count": 614,
   "id": "ab671355",
   "metadata": {},
   "outputs": [],
   "source": [
    "newİndexList = ['Number1','Number2','Number3','Number4']\n",
    "newDataFrame['New İndex'] = newİndexList"
   ]
  },
  {
   "cell_type": "code",
   "execution_count": 615,
   "id": "e0a36944",
   "metadata": {
    "scrolled": true
   },
   "outputs": [],
   "source": [
    "newDataFrame.set_index('New İndex',inplace=True)"
   ]
  },
  {
   "cell_type": "code",
   "execution_count": 616,
   "id": "99e1b313",
   "metadata": {},
   "outputs": [
    {
     "data": {
      "text/html": [
       "<div>\n",
       "<style scoped>\n",
       "    .dataframe tbody tr th:only-of-type {\n",
       "        vertical-align: middle;\n",
       "    }\n",
       "\n",
       "    .dataframe tbody tr th {\n",
       "        vertical-align: top;\n",
       "    }\n",
       "\n",
       "    .dataframe thead th {\n",
       "        text-align: right;\n",
       "    }\n",
       "</style>\n",
       "<table border=\"1\" class=\"dataframe\">\n",
       "  <thead>\n",
       "    <tr style=\"text-align: right;\">\n",
       "      <th></th>\n",
       "      <th>Column1</th>\n",
       "      <th>Column2</th>\n",
       "      <th>Column3</th>\n",
       "    </tr>\n",
       "    <tr>\n",
       "      <th>New İndex</th>\n",
       "      <th></th>\n",
       "      <th></th>\n",
       "      <th></th>\n",
       "    </tr>\n",
       "  </thead>\n",
       "  <tbody>\n",
       "    <tr>\n",
       "      <th>Number1</th>\n",
       "      <td>0.192557</td>\n",
       "      <td>0.476849</td>\n",
       "      <td>0.474889</td>\n",
       "    </tr>\n",
       "    <tr>\n",
       "      <th>Number2</th>\n",
       "      <td>0.424435</td>\n",
       "      <td>0.174932</td>\n",
       "      <td>1.166175</td>\n",
       "    </tr>\n",
       "    <tr>\n",
       "      <th>Number3</th>\n",
       "      <td>1.301375</td>\n",
       "      <td>-1.269544</td>\n",
       "      <td>-0.980674</td>\n",
       "    </tr>\n",
       "    <tr>\n",
       "      <th>Number4</th>\n",
       "      <td>-0.174977</td>\n",
       "      <td>0.678626</td>\n",
       "      <td>0.624122</td>\n",
       "    </tr>\n",
       "  </tbody>\n",
       "</table>\n",
       "</div>"
      ],
      "text/plain": [
       "            Column1   Column2   Column3\n",
       "New İndex                              \n",
       "Number1    0.192557  0.476849  0.474889\n",
       "Number2    0.424435  0.174932  1.166175\n",
       "Number3    1.301375 -1.269544 -0.980674\n",
       "Number4   -0.174977  0.678626  0.624122"
      ]
     },
     "execution_count": 616,
     "metadata": {},
     "output_type": "execute_result"
    }
   ],
   "source": [
    "newDataFrame"
   ]
  },
  {
   "cell_type": "markdown",
   "id": "48248e2a",
   "metadata": {},
   "source": [
    "## Multi İndex"
   ]
  },
  {
   "cell_type": "code",
   "execution_count": 617,
   "id": "8df2c120",
   "metadata": {},
   "outputs": [
    {
     "data": {
      "text/plain": [
       "[('Bmw', 'M5'),\n",
       " ('Bmw', 'M4'),\n",
       " ('Bmw', 'M3'),\n",
       " ('Audi', 'A6'),\n",
       " ('Audi', 'A5'),\n",
       " ('Audi', 'A4')]"
      ]
     },
     "execution_count": 617,
     "metadata": {},
     "output_type": "execute_result"
    }
   ],
   "source": [
    "firstİndexs = ['Bmw','Bmw','Bmw','Audi','Audi','Audi']\n",
    "secondİndex = ['M5','M4','M3','A6','A5','A4']\n",
    "zipList = list(zip(firstİndexs,secondİndex))\n",
    "zipList"
   ]
  },
  {
   "cell_type": "code",
   "execution_count": 618,
   "id": "c36d7fee",
   "metadata": {},
   "outputs": [
    {
     "data": {
      "text/plain": [
       "MultiIndex([( 'Bmw', 'M5'),\n",
       "            ( 'Bmw', 'M4'),\n",
       "            ( 'Bmw', 'M3'),\n",
       "            ('Audi', 'A6'),\n",
       "            ('Audi', 'A5'),\n",
       "            ('Audi', 'A4')],\n",
       "           )"
      ]
     },
     "execution_count": 618,
     "metadata": {},
     "output_type": "execute_result"
    }
   ],
   "source": [
    "jointİndexs = pd.MultiIndex.from_tuples(zipList)\n",
    "jointİndexs"
   ]
  },
  {
   "cell_type": "code",
   "execution_count": 619,
   "id": "b952e27d",
   "metadata": {},
   "outputs": [
    {
     "data": {
      "text/plain": [
       "pandas.core.indexes.multi.MultiIndex"
      ]
     },
     "execution_count": 619,
     "metadata": {},
     "output_type": "execute_result"
    }
   ],
   "source": [
    "type(jointİndexs)"
   ]
  },
  {
   "cell_type": "code",
   "execution_count": 620,
   "id": "72c403ab",
   "metadata": {},
   "outputs": [
    {
     "data": {
      "text/plain": [
       "[[300, '50000$'],\n",
       " [280, '40000$'],\n",
       " [260, '30000$'],\n",
       " [250, '50000$'],\n",
       " [260, '40000$'],\n",
       " [270, '30000$']]"
      ]
     },
     "execution_count": 620,
     "metadata": {},
     "output_type": "execute_result"
    }
   ],
   "source": [
    "myCarList = [[300,'50000$'],[280,'40000$'],[260,'30000$'],[250,'50000$'],[260,'40000$'],[270,'30000$']]\n",
    "myCarList"
   ]
  },
  {
   "cell_type": "code",
   "execution_count": 621,
   "id": "c074c893",
   "metadata": {},
   "outputs": [],
   "source": [
    "carDataFrame = pd.DataFrame(myCarList,index=jointİndexs,columns=['Speed','Price'])"
   ]
  },
  {
   "cell_type": "code",
   "execution_count": 622,
   "id": "62d0f7df",
   "metadata": {},
   "outputs": [
    {
     "data": {
      "text/html": [
       "<div>\n",
       "<style scoped>\n",
       "    .dataframe tbody tr th:only-of-type {\n",
       "        vertical-align: middle;\n",
       "    }\n",
       "\n",
       "    .dataframe tbody tr th {\n",
       "        vertical-align: top;\n",
       "    }\n",
       "\n",
       "    .dataframe thead th {\n",
       "        text-align: right;\n",
       "    }\n",
       "</style>\n",
       "<table border=\"1\" class=\"dataframe\">\n",
       "  <thead>\n",
       "    <tr style=\"text-align: right;\">\n",
       "      <th></th>\n",
       "      <th></th>\n",
       "      <th>Speed</th>\n",
       "      <th>Price</th>\n",
       "    </tr>\n",
       "  </thead>\n",
       "  <tbody>\n",
       "    <tr>\n",
       "      <th rowspan=\"3\" valign=\"top\">Bmw</th>\n",
       "      <th>M5</th>\n",
       "      <td>300</td>\n",
       "      <td>50000$</td>\n",
       "    </tr>\n",
       "    <tr>\n",
       "      <th>M4</th>\n",
       "      <td>280</td>\n",
       "      <td>40000$</td>\n",
       "    </tr>\n",
       "    <tr>\n",
       "      <th>M3</th>\n",
       "      <td>260</td>\n",
       "      <td>30000$</td>\n",
       "    </tr>\n",
       "    <tr>\n",
       "      <th rowspan=\"3\" valign=\"top\">Audi</th>\n",
       "      <th>A6</th>\n",
       "      <td>250</td>\n",
       "      <td>50000$</td>\n",
       "    </tr>\n",
       "    <tr>\n",
       "      <th>A5</th>\n",
       "      <td>260</td>\n",
       "      <td>40000$</td>\n",
       "    </tr>\n",
       "    <tr>\n",
       "      <th>A4</th>\n",
       "      <td>270</td>\n",
       "      <td>30000$</td>\n",
       "    </tr>\n",
       "  </tbody>\n",
       "</table>\n",
       "</div>"
      ],
      "text/plain": [
       "         Speed   Price\n",
       "Bmw  M5    300  50000$\n",
       "     M4    280  40000$\n",
       "     M3    260  30000$\n",
       "Audi A6    250  50000$\n",
       "     A5    260  40000$\n",
       "     A4    270  30000$"
      ]
     },
     "execution_count": 622,
     "metadata": {},
     "output_type": "execute_result"
    }
   ],
   "source": [
    "carDataFrame"
   ]
  },
  {
   "cell_type": "code",
   "execution_count": 623,
   "id": "5cfdadac",
   "metadata": {},
   "outputs": [
    {
     "data": {
      "text/html": [
       "<div>\n",
       "<style scoped>\n",
       "    .dataframe tbody tr th:only-of-type {\n",
       "        vertical-align: middle;\n",
       "    }\n",
       "\n",
       "    .dataframe tbody tr th {\n",
       "        vertical-align: top;\n",
       "    }\n",
       "\n",
       "    .dataframe thead th {\n",
       "        text-align: right;\n",
       "    }\n",
       "</style>\n",
       "<table border=\"1\" class=\"dataframe\">\n",
       "  <thead>\n",
       "    <tr style=\"text-align: right;\">\n",
       "      <th></th>\n",
       "      <th>Speed</th>\n",
       "      <th>Price</th>\n",
       "    </tr>\n",
       "  </thead>\n",
       "  <tbody>\n",
       "    <tr>\n",
       "      <th>M5</th>\n",
       "      <td>300</td>\n",
       "      <td>50000$</td>\n",
       "    </tr>\n",
       "    <tr>\n",
       "      <th>M4</th>\n",
       "      <td>280</td>\n",
       "      <td>40000$</td>\n",
       "    </tr>\n",
       "    <tr>\n",
       "      <th>M3</th>\n",
       "      <td>260</td>\n",
       "      <td>30000$</td>\n",
       "    </tr>\n",
       "  </tbody>\n",
       "</table>\n",
       "</div>"
      ],
      "text/plain": [
       "    Speed   Price\n",
       "M5    300  50000$\n",
       "M4    280  40000$\n",
       "M3    260  30000$"
      ]
     },
     "execution_count": 623,
     "metadata": {},
     "output_type": "execute_result"
    }
   ],
   "source": [
    "carDataFrame.loc['Bmw']"
   ]
  },
  {
   "cell_type": "code",
   "execution_count": 624,
   "id": "59abccff",
   "metadata": {},
   "outputs": [
    {
     "data": {
      "text/plain": [
       "Speed       250\n",
       "Price    50000$\n",
       "Name: A6, dtype: object"
      ]
     },
     "execution_count": 624,
     "metadata": {},
     "output_type": "execute_result"
    }
   ],
   "source": [
    "carDataFrame.loc['Audi'].loc['A6']"
   ]
  },
  {
   "cell_type": "code",
   "execution_count": 625,
   "id": "6f981d01",
   "metadata": {},
   "outputs": [
    {
     "data": {
      "text/html": [
       "<div>\n",
       "<style scoped>\n",
       "    .dataframe tbody tr th:only-of-type {\n",
       "        vertical-align: middle;\n",
       "    }\n",
       "\n",
       "    .dataframe tbody tr th {\n",
       "        vertical-align: top;\n",
       "    }\n",
       "\n",
       "    .dataframe thead th {\n",
       "        text-align: right;\n",
       "    }\n",
       "</style>\n",
       "<table border=\"1\" class=\"dataframe\">\n",
       "  <thead>\n",
       "    <tr style=\"text-align: right;\">\n",
       "      <th></th>\n",
       "      <th></th>\n",
       "      <th>Speed</th>\n",
       "      <th>Price</th>\n",
       "    </tr>\n",
       "    <tr>\n",
       "      <th>Mark</th>\n",
       "      <th>Model</th>\n",
       "      <th></th>\n",
       "      <th></th>\n",
       "    </tr>\n",
       "  </thead>\n",
       "  <tbody>\n",
       "    <tr>\n",
       "      <th rowspan=\"3\" valign=\"top\">Bmw</th>\n",
       "      <th>M5</th>\n",
       "      <td>300</td>\n",
       "      <td>50000$</td>\n",
       "    </tr>\n",
       "    <tr>\n",
       "      <th>M4</th>\n",
       "      <td>280</td>\n",
       "      <td>40000$</td>\n",
       "    </tr>\n",
       "    <tr>\n",
       "      <th>M3</th>\n",
       "      <td>260</td>\n",
       "      <td>30000$</td>\n",
       "    </tr>\n",
       "    <tr>\n",
       "      <th rowspan=\"3\" valign=\"top\">Audi</th>\n",
       "      <th>A6</th>\n",
       "      <td>250</td>\n",
       "      <td>50000$</td>\n",
       "    </tr>\n",
       "    <tr>\n",
       "      <th>A5</th>\n",
       "      <td>260</td>\n",
       "      <td>40000$</td>\n",
       "    </tr>\n",
       "    <tr>\n",
       "      <th>A4</th>\n",
       "      <td>270</td>\n",
       "      <td>30000$</td>\n",
       "    </tr>\n",
       "  </tbody>\n",
       "</table>\n",
       "</div>"
      ],
      "text/plain": [
       "            Speed   Price\n",
       "Mark Model               \n",
       "Bmw  M5       300  50000$\n",
       "     M4       280  40000$\n",
       "     M3       260  30000$\n",
       "Audi A6       250  50000$\n",
       "     A5       260  40000$\n",
       "     A4       270  30000$"
      ]
     },
     "execution_count": 625,
     "metadata": {},
     "output_type": "execute_result"
    }
   ],
   "source": [
    "carDataFrame.index.names = ['Mark','Model']\n",
    "carDataFrame"
   ]
  },
  {
   "cell_type": "markdown",
   "id": "5506e689",
   "metadata": {},
   "source": [
    "# Missing Data"
   ]
  },
  {
   "cell_type": "code",
   "execution_count": 626,
   "id": "5104718d",
   "metadata": {},
   "outputs": [
    {
     "data": {
      "text/plain": [
       "{'Bursa': [30, 29, nan], 'İstanbul': [27, nan, 33], 'Izmir': [40, 35, 39]}"
      ]
     },
     "execution_count": 626,
     "metadata": {},
     "output_type": "execute_result"
    }
   ],
   "source": [
    "missData = {'Bursa':[30,29,np.nan],'İstanbul':[27,np.nan,33],'Izmir':[40,35,39]}\n",
    "missData"
   ]
  },
  {
   "cell_type": "code",
   "execution_count": 627,
   "id": "e32c82b1",
   "metadata": {},
   "outputs": [
    {
     "data": {
      "text/html": [
       "<div>\n",
       "<style scoped>\n",
       "    .dataframe tbody tr th:only-of-type {\n",
       "        vertical-align: middle;\n",
       "    }\n",
       "\n",
       "    .dataframe tbody tr th {\n",
       "        vertical-align: top;\n",
       "    }\n",
       "\n",
       "    .dataframe thead th {\n",
       "        text-align: right;\n",
       "    }\n",
       "</style>\n",
       "<table border=\"1\" class=\"dataframe\">\n",
       "  <thead>\n",
       "    <tr style=\"text-align: right;\">\n",
       "      <th></th>\n",
       "      <th>Bursa</th>\n",
       "      <th>İstanbul</th>\n",
       "      <th>Izmir</th>\n",
       "    </tr>\n",
       "  </thead>\n",
       "  <tbody>\n",
       "    <tr>\n",
       "      <th>0</th>\n",
       "      <td>30.0</td>\n",
       "      <td>27.0</td>\n",
       "      <td>40</td>\n",
       "    </tr>\n",
       "    <tr>\n",
       "      <th>1</th>\n",
       "      <td>29.0</td>\n",
       "      <td>NaN</td>\n",
       "      <td>35</td>\n",
       "    </tr>\n",
       "    <tr>\n",
       "      <th>2</th>\n",
       "      <td>NaN</td>\n",
       "      <td>33.0</td>\n",
       "      <td>39</td>\n",
       "    </tr>\n",
       "  </tbody>\n",
       "</table>\n",
       "</div>"
      ],
      "text/plain": [
       "   Bursa  İstanbul  Izmir\n",
       "0   30.0      27.0     40\n",
       "1   29.0       NaN     35\n",
       "2    NaN      33.0     39"
      ]
     },
     "execution_count": 627,
     "metadata": {},
     "output_type": "execute_result"
    }
   ],
   "source": [
    "missData = pd.DataFrame(missData)\n",
    "missData"
   ]
  },
  {
   "cell_type": "code",
   "execution_count": 628,
   "id": "324e4ef5",
   "metadata": {},
   "outputs": [
    {
     "data": {
      "text/html": [
       "<div>\n",
       "<style scoped>\n",
       "    .dataframe tbody tr th:only-of-type {\n",
       "        vertical-align: middle;\n",
       "    }\n",
       "\n",
       "    .dataframe tbody tr th {\n",
       "        vertical-align: top;\n",
       "    }\n",
       "\n",
       "    .dataframe thead th {\n",
       "        text-align: right;\n",
       "    }\n",
       "</style>\n",
       "<table border=\"1\" class=\"dataframe\">\n",
       "  <thead>\n",
       "    <tr style=\"text-align: right;\">\n",
       "      <th></th>\n",
       "      <th>Bursa</th>\n",
       "      <th>İstanbul</th>\n",
       "      <th>Izmir</th>\n",
       "    </tr>\n",
       "  </thead>\n",
       "  <tbody>\n",
       "    <tr>\n",
       "      <th>0</th>\n",
       "      <td>30.0</td>\n",
       "      <td>27.0</td>\n",
       "      <td>40</td>\n",
       "    </tr>\n",
       "  </tbody>\n",
       "</table>\n",
       "</div>"
      ],
      "text/plain": [
       "   Bursa  İstanbul  Izmir\n",
       "0   30.0      27.0     40"
      ]
     },
     "execution_count": 628,
     "metadata": {},
     "output_type": "execute_result"
    }
   ],
   "source": [
    "missData.dropna()"
   ]
  },
  {
   "cell_type": "code",
   "execution_count": 629,
   "id": "2ad785f1",
   "metadata": {},
   "outputs": [
    {
     "data": {
      "text/html": [
       "<div>\n",
       "<style scoped>\n",
       "    .dataframe tbody tr th:only-of-type {\n",
       "        vertical-align: middle;\n",
       "    }\n",
       "\n",
       "    .dataframe tbody tr th {\n",
       "        vertical-align: top;\n",
       "    }\n",
       "\n",
       "    .dataframe thead th {\n",
       "        text-align: right;\n",
       "    }\n",
       "</style>\n",
       "<table border=\"1\" class=\"dataframe\">\n",
       "  <thead>\n",
       "    <tr style=\"text-align: right;\">\n",
       "      <th></th>\n",
       "      <th>Izmir</th>\n",
       "    </tr>\n",
       "  </thead>\n",
       "  <tbody>\n",
       "    <tr>\n",
       "      <th>0</th>\n",
       "      <td>40</td>\n",
       "    </tr>\n",
       "    <tr>\n",
       "      <th>1</th>\n",
       "      <td>35</td>\n",
       "    </tr>\n",
       "    <tr>\n",
       "      <th>2</th>\n",
       "      <td>39</td>\n",
       "    </tr>\n",
       "  </tbody>\n",
       "</table>\n",
       "</div>"
      ],
      "text/plain": [
       "   Izmir\n",
       "0     40\n",
       "1     35\n",
       "2     39"
      ]
     },
     "execution_count": 629,
     "metadata": {},
     "output_type": "execute_result"
    }
   ],
   "source": [
    "missData.dropna(axis=1)"
   ]
  },
  {
   "cell_type": "code",
   "execution_count": 630,
   "id": "0db1d9a2",
   "metadata": {},
   "outputs": [
    {
     "data": {
      "text/html": [
       "<div>\n",
       "<style scoped>\n",
       "    .dataframe tbody tr th:only-of-type {\n",
       "        vertical-align: middle;\n",
       "    }\n",
       "\n",
       "    .dataframe tbody tr th {\n",
       "        vertical-align: top;\n",
       "    }\n",
       "\n",
       "    .dataframe thead th {\n",
       "        text-align: right;\n",
       "    }\n",
       "</style>\n",
       "<table border=\"1\" class=\"dataframe\">\n",
       "  <thead>\n",
       "    <tr style=\"text-align: right;\">\n",
       "      <th></th>\n",
       "      <th>Bursa</th>\n",
       "      <th>İstanbul</th>\n",
       "      <th>Izmir</th>\n",
       "      <th>Antalya</th>\n",
       "    </tr>\n",
       "  </thead>\n",
       "  <tbody>\n",
       "    <tr>\n",
       "      <th>0</th>\n",
       "      <td>30.0</td>\n",
       "      <td>27.0</td>\n",
       "      <td>40</td>\n",
       "      <td>45.0</td>\n",
       "    </tr>\n",
       "    <tr>\n",
       "      <th>1</th>\n",
       "      <td>29.0</td>\n",
       "      <td>NaN</td>\n",
       "      <td>35</td>\n",
       "      <td>NaN</td>\n",
       "    </tr>\n",
       "    <tr>\n",
       "      <th>2</th>\n",
       "      <td>NaN</td>\n",
       "      <td>33.0</td>\n",
       "      <td>39</td>\n",
       "      <td>NaN</td>\n",
       "    </tr>\n",
       "  </tbody>\n",
       "</table>\n",
       "</div>"
      ],
      "text/plain": [
       "   Bursa  İstanbul  Izmir  Antalya\n",
       "0   30.0      27.0     40     45.0\n",
       "1   29.0       NaN     35      NaN\n",
       "2    NaN      33.0     39      NaN"
      ]
     },
     "execution_count": 630,
     "metadata": {},
     "output_type": "execute_result"
    }
   ],
   "source": [
    "missData = {'Bursa':[30,29,np.nan],'İstanbul':[27,np.nan,33],'Izmir':[40,35,39],'Antalya':[45,np.nan,np.nan]}\n",
    "missData = pd.DataFrame(missData)\n",
    "missData"
   ]
  },
  {
   "cell_type": "code",
   "execution_count": 631,
   "id": "af19e1a6",
   "metadata": {},
   "outputs": [
    {
     "data": {
      "text/html": [
       "<div>\n",
       "<style scoped>\n",
       "    .dataframe tbody tr th:only-of-type {\n",
       "        vertical-align: middle;\n",
       "    }\n",
       "\n",
       "    .dataframe tbody tr th {\n",
       "        vertical-align: top;\n",
       "    }\n",
       "\n",
       "    .dataframe thead th {\n",
       "        text-align: right;\n",
       "    }\n",
       "</style>\n",
       "<table border=\"1\" class=\"dataframe\">\n",
       "  <thead>\n",
       "    <tr style=\"text-align: right;\">\n",
       "      <th></th>\n",
       "      <th>Bursa</th>\n",
       "      <th>İstanbul</th>\n",
       "      <th>Izmir</th>\n",
       "      <th>Antalya</th>\n",
       "    </tr>\n",
       "  </thead>\n",
       "  <tbody>\n",
       "    <tr>\n",
       "      <th>0</th>\n",
       "      <td>30.0</td>\n",
       "      <td>27.0</td>\n",
       "      <td>40</td>\n",
       "      <td>45.0</td>\n",
       "    </tr>\n",
       "  </tbody>\n",
       "</table>\n",
       "</div>"
      ],
      "text/plain": [
       "   Bursa  İstanbul  Izmir  Antalya\n",
       "0   30.0      27.0     40     45.0"
      ]
     },
     "execution_count": 631,
     "metadata": {},
     "output_type": "execute_result"
    }
   ],
   "source": [
    "missData.dropna()"
   ]
  },
  {
   "cell_type": "code",
   "execution_count": 632,
   "id": "3218ea33",
   "metadata": {},
   "outputs": [
    {
     "data": {
      "text/html": [
       "<div>\n",
       "<style scoped>\n",
       "    .dataframe tbody tr th:only-of-type {\n",
       "        vertical-align: middle;\n",
       "    }\n",
       "\n",
       "    .dataframe tbody tr th {\n",
       "        vertical-align: top;\n",
       "    }\n",
       "\n",
       "    .dataframe thead th {\n",
       "        text-align: right;\n",
       "    }\n",
       "</style>\n",
       "<table border=\"1\" class=\"dataframe\">\n",
       "  <thead>\n",
       "    <tr style=\"text-align: right;\">\n",
       "      <th></th>\n",
       "      <th>Bursa</th>\n",
       "      <th>İstanbul</th>\n",
       "      <th>Izmir</th>\n",
       "    </tr>\n",
       "  </thead>\n",
       "  <tbody>\n",
       "    <tr>\n",
       "      <th>0</th>\n",
       "      <td>30.0</td>\n",
       "      <td>27.0</td>\n",
       "      <td>40</td>\n",
       "    </tr>\n",
       "    <tr>\n",
       "      <th>1</th>\n",
       "      <td>29.0</td>\n",
       "      <td>NaN</td>\n",
       "      <td>35</td>\n",
       "    </tr>\n",
       "    <tr>\n",
       "      <th>2</th>\n",
       "      <td>NaN</td>\n",
       "      <td>33.0</td>\n",
       "      <td>39</td>\n",
       "    </tr>\n",
       "  </tbody>\n",
       "</table>\n",
       "</div>"
      ],
      "text/plain": [
       "   Bursa  İstanbul  Izmir\n",
       "0   30.0      27.0     40\n",
       "1   29.0       NaN     35\n",
       "2    NaN      33.0     39"
      ]
     },
     "execution_count": 632,
     "metadata": {},
     "output_type": "execute_result"
    }
   ],
   "source": [
    "missData.dropna(axis=1,thresh=2)##Thresh belirtilen sayı kadar olanları drop eder"
   ]
  },
  {
   "cell_type": "code",
   "execution_count": 633,
   "id": "ac5c0cd4",
   "metadata": {},
   "outputs": [
    {
     "data": {
      "text/html": [
       "<div>\n",
       "<style scoped>\n",
       "    .dataframe tbody tr th:only-of-type {\n",
       "        vertical-align: middle;\n",
       "    }\n",
       "\n",
       "    .dataframe tbody tr th {\n",
       "        vertical-align: top;\n",
       "    }\n",
       "\n",
       "    .dataframe thead th {\n",
       "        text-align: right;\n",
       "    }\n",
       "</style>\n",
       "<table border=\"1\" class=\"dataframe\">\n",
       "  <thead>\n",
       "    <tr style=\"text-align: right;\">\n",
       "      <th></th>\n",
       "      <th>Bursa</th>\n",
       "      <th>İstanbul</th>\n",
       "      <th>Izmir</th>\n",
       "      <th>Antalya</th>\n",
       "    </tr>\n",
       "  </thead>\n",
       "  <tbody>\n",
       "    <tr>\n",
       "      <th>0</th>\n",
       "      <td>False</td>\n",
       "      <td>False</td>\n",
       "      <td>False</td>\n",
       "      <td>False</td>\n",
       "    </tr>\n",
       "    <tr>\n",
       "      <th>1</th>\n",
       "      <td>False</td>\n",
       "      <td>True</td>\n",
       "      <td>False</td>\n",
       "      <td>True</td>\n",
       "    </tr>\n",
       "    <tr>\n",
       "      <th>2</th>\n",
       "      <td>True</td>\n",
       "      <td>False</td>\n",
       "      <td>False</td>\n",
       "      <td>True</td>\n",
       "    </tr>\n",
       "  </tbody>\n",
       "</table>\n",
       "</div>"
      ],
      "text/plain": [
       "   Bursa  İstanbul  Izmir  Antalya\n",
       "0  False     False  False    False\n",
       "1  False      True  False     True\n",
       "2   True     False  False     True"
      ]
     },
     "execution_count": 633,
     "metadata": {},
     "output_type": "execute_result"
    }
   ],
   "source": [
    "missData.isnull()"
   ]
  },
  {
   "cell_type": "code",
   "execution_count": 634,
   "id": "678b66cb",
   "metadata": {},
   "outputs": [
    {
     "data": {
      "text/plain": [
       "Bursa       1\n",
       "İstanbul    1\n",
       "Izmir       0\n",
       "Antalya     2\n",
       "dtype: int64"
      ]
     },
     "execution_count": 634,
     "metadata": {},
     "output_type": "execute_result"
    }
   ],
   "source": [
    "missData.isna().sum()"
   ]
  },
  {
   "cell_type": "code",
   "execution_count": 635,
   "id": "78e7fcc3",
   "metadata": {},
   "outputs": [
    {
     "data": {
      "text/html": [
       "<div>\n",
       "<style scoped>\n",
       "    .dataframe tbody tr th:only-of-type {\n",
       "        vertical-align: middle;\n",
       "    }\n",
       "\n",
       "    .dataframe tbody tr th {\n",
       "        vertical-align: top;\n",
       "    }\n",
       "\n",
       "    .dataframe thead th {\n",
       "        text-align: right;\n",
       "    }\n",
       "</style>\n",
       "<table border=\"1\" class=\"dataframe\">\n",
       "  <thead>\n",
       "    <tr style=\"text-align: right;\">\n",
       "      <th></th>\n",
       "      <th>Bursa</th>\n",
       "      <th>İstanbul</th>\n",
       "      <th>Izmir</th>\n",
       "      <th>Antalya</th>\n",
       "    </tr>\n",
       "  </thead>\n",
       "  <tbody>\n",
       "    <tr>\n",
       "      <th>0</th>\n",
       "      <td>30.0</td>\n",
       "      <td>27.0</td>\n",
       "      <td>40</td>\n",
       "      <td>45.0</td>\n",
       "    </tr>\n",
       "    <tr>\n",
       "      <th>1</th>\n",
       "      <td>29.0</td>\n",
       "      <td>20.0</td>\n",
       "      <td>35</td>\n",
       "      <td>20.0</td>\n",
       "    </tr>\n",
       "    <tr>\n",
       "      <th>2</th>\n",
       "      <td>20.0</td>\n",
       "      <td>33.0</td>\n",
       "      <td>39</td>\n",
       "      <td>20.0</td>\n",
       "    </tr>\n",
       "  </tbody>\n",
       "</table>\n",
       "</div>"
      ],
      "text/plain": [
       "   Bursa  İstanbul  Izmir  Antalya\n",
       "0   30.0      27.0     40     45.0\n",
       "1   29.0      20.0     35     20.0\n",
       "2   20.0      33.0     39     20.0"
      ]
     },
     "execution_count": 635,
     "metadata": {},
     "output_type": "execute_result"
    }
   ],
   "source": [
    "missData.fillna(20)"
   ]
  },
  {
   "cell_type": "code",
   "execution_count": 636,
   "id": "314c7019",
   "metadata": {
    "scrolled": true
   },
   "outputs": [
    {
     "data": {
      "text/html": [
       "<div>\n",
       "<style scoped>\n",
       "    .dataframe tbody tr th:only-of-type {\n",
       "        vertical-align: middle;\n",
       "    }\n",
       "\n",
       "    .dataframe tbody tr th {\n",
       "        vertical-align: top;\n",
       "    }\n",
       "\n",
       "    .dataframe thead th {\n",
       "        text-align: right;\n",
       "    }\n",
       "</style>\n",
       "<table border=\"1\" class=\"dataframe\">\n",
       "  <thead>\n",
       "    <tr style=\"text-align: right;\">\n",
       "      <th></th>\n",
       "      <th>Bursa</th>\n",
       "      <th>İstanbul</th>\n",
       "      <th>Izmir</th>\n",
       "      <th>Antalya</th>\n",
       "    </tr>\n",
       "  </thead>\n",
       "  <tbody>\n",
       "    <tr>\n",
       "      <th>0</th>\n",
       "      <td>30.00</td>\n",
       "      <td>27.00</td>\n",
       "      <td>40</td>\n",
       "      <td>45.00</td>\n",
       "    </tr>\n",
       "    <tr>\n",
       "      <th>1</th>\n",
       "      <td>29.00</td>\n",
       "      <td>34.75</td>\n",
       "      <td>35</td>\n",
       "      <td>34.75</td>\n",
       "    </tr>\n",
       "    <tr>\n",
       "      <th>2</th>\n",
       "      <td>34.75</td>\n",
       "      <td>33.00</td>\n",
       "      <td>39</td>\n",
       "      <td>34.75</td>\n",
       "    </tr>\n",
       "  </tbody>\n",
       "</table>\n",
       "</div>"
      ],
      "text/plain": [
       "   Bursa  İstanbul  Izmir  Antalya\n",
       "0  30.00     27.00     40    45.00\n",
       "1  29.00     34.75     35    34.75\n",
       "2  34.75     33.00     39    34.75"
      ]
     },
     "execution_count": 636,
     "metadata": {},
     "output_type": "execute_result"
    }
   ],
   "source": [
    "missData.fillna(value=(missData.sum().sum()/(missData.size - missData.isnull().sum().sum())))"
   ]
  },
  {
   "cell_type": "markdown",
   "id": "d0d4a9de",
   "metadata": {},
   "source": [
    "# Groupby"
   ]
  },
  {
   "cell_type": "code",
   "execution_count": 637,
   "id": "98858d46",
   "metadata": {},
   "outputs": [],
   "source": [
    "wageDict = {'Departmans': [\"Software\",\"Software\",\"Journalist\",\"Journalist\",\"Human Resources\",\"Human Resources\"],\n",
    "            \"Worker\":[\"Jack\",\"Robert\",\"Marianna\",\"James\",\"Adriana\",\"Gabriel\"],\n",
    "           \"Wage\":[5000,4000,4500,5000,6000,6500]}"
   ]
  },
  {
   "cell_type": "code",
   "execution_count": 638,
   "id": "57482cda",
   "metadata": {},
   "outputs": [
    {
     "data": {
      "text/plain": [
       "{'Departmans': ['Software',\n",
       "  'Software',\n",
       "  'Journalist',\n",
       "  'Journalist',\n",
       "  'Human Resources',\n",
       "  'Human Resources'],\n",
       " 'Worker': ['Jack', 'Robert', 'Marianna', 'James', 'Adriana', 'Gabriel'],\n",
       " 'Wage': [5000, 4000, 4500, 5000, 6000, 6500]}"
      ]
     },
     "execution_count": 638,
     "metadata": {},
     "output_type": "execute_result"
    }
   ],
   "source": [
    "wageDict"
   ]
  },
  {
   "cell_type": "code",
   "execution_count": 639,
   "id": "572a4e41",
   "metadata": {},
   "outputs": [
    {
     "data": {
      "text/html": [
       "<div>\n",
       "<style scoped>\n",
       "    .dataframe tbody tr th:only-of-type {\n",
       "        vertical-align: middle;\n",
       "    }\n",
       "\n",
       "    .dataframe tbody tr th {\n",
       "        vertical-align: top;\n",
       "    }\n",
       "\n",
       "    .dataframe thead th {\n",
       "        text-align: right;\n",
       "    }\n",
       "</style>\n",
       "<table border=\"1\" class=\"dataframe\">\n",
       "  <thead>\n",
       "    <tr style=\"text-align: right;\">\n",
       "      <th></th>\n",
       "      <th>Departmans</th>\n",
       "      <th>Worker</th>\n",
       "      <th>Wage</th>\n",
       "    </tr>\n",
       "  </thead>\n",
       "  <tbody>\n",
       "    <tr>\n",
       "      <th>0</th>\n",
       "      <td>Software</td>\n",
       "      <td>Jack</td>\n",
       "      <td>5000</td>\n",
       "    </tr>\n",
       "    <tr>\n",
       "      <th>1</th>\n",
       "      <td>Software</td>\n",
       "      <td>Robert</td>\n",
       "      <td>4000</td>\n",
       "    </tr>\n",
       "    <tr>\n",
       "      <th>2</th>\n",
       "      <td>Journalist</td>\n",
       "      <td>Marianna</td>\n",
       "      <td>4500</td>\n",
       "    </tr>\n",
       "    <tr>\n",
       "      <th>3</th>\n",
       "      <td>Journalist</td>\n",
       "      <td>James</td>\n",
       "      <td>5000</td>\n",
       "    </tr>\n",
       "    <tr>\n",
       "      <th>4</th>\n",
       "      <td>Human Resources</td>\n",
       "      <td>Adriana</td>\n",
       "      <td>6000</td>\n",
       "    </tr>\n",
       "    <tr>\n",
       "      <th>5</th>\n",
       "      <td>Human Resources</td>\n",
       "      <td>Gabriel</td>\n",
       "      <td>6500</td>\n",
       "    </tr>\n",
       "  </tbody>\n",
       "</table>\n",
       "</div>"
      ],
      "text/plain": [
       "        Departmans    Worker  Wage\n",
       "0         Software      Jack  5000\n",
       "1         Software    Robert  4000\n",
       "2       Journalist  Marianna  4500\n",
       "3       Journalist     James  5000\n",
       "4  Human Resources   Adriana  6000\n",
       "5  Human Resources   Gabriel  6500"
      ]
     },
     "execution_count": 639,
     "metadata": {},
     "output_type": "execute_result"
    }
   ],
   "source": [
    "wageDataFrame = pd.DataFrame(wageDict)\n",
    "wageDataFrame"
   ]
  },
  {
   "cell_type": "code",
   "execution_count": 640,
   "id": "1dfe4627",
   "metadata": {},
   "outputs": [],
   "source": [
    "groupObject = wageDataFrame.groupby(\"Departmans\")"
   ]
  },
  {
   "cell_type": "code",
   "execution_count": 641,
   "id": "738e91b0",
   "metadata": {},
   "outputs": [
    {
     "data": {
      "text/html": [
       "<div>\n",
       "<style scoped>\n",
       "    .dataframe tbody tr th:only-of-type {\n",
       "        vertical-align: middle;\n",
       "    }\n",
       "\n",
       "    .dataframe tbody tr th {\n",
       "        vertical-align: top;\n",
       "    }\n",
       "\n",
       "    .dataframe thead th {\n",
       "        text-align: right;\n",
       "    }\n",
       "</style>\n",
       "<table border=\"1\" class=\"dataframe\">\n",
       "  <thead>\n",
       "    <tr style=\"text-align: right;\">\n",
       "      <th></th>\n",
       "      <th>Worker</th>\n",
       "      <th>Wage</th>\n",
       "    </tr>\n",
       "    <tr>\n",
       "      <th>Departmans</th>\n",
       "      <th></th>\n",
       "      <th></th>\n",
       "    </tr>\n",
       "  </thead>\n",
       "  <tbody>\n",
       "    <tr>\n",
       "      <th>Human Resources</th>\n",
       "      <td>object</td>\n",
       "      <td>int64</td>\n",
       "    </tr>\n",
       "    <tr>\n",
       "      <th>Journalist</th>\n",
       "      <td>object</td>\n",
       "      <td>int64</td>\n",
       "    </tr>\n",
       "    <tr>\n",
       "      <th>Software</th>\n",
       "      <td>object</td>\n",
       "      <td>int64</td>\n",
       "    </tr>\n",
       "  </tbody>\n",
       "</table>\n",
       "</div>"
      ],
      "text/plain": [
       "                 Worker   Wage\n",
       "Departmans                    \n",
       "Human Resources  object  int64\n",
       "Journalist       object  int64\n",
       "Software         object  int64"
      ]
     },
     "execution_count": 641,
     "metadata": {},
     "output_type": "execute_result"
    }
   ],
   "source": [
    "groupObject.dtypes"
   ]
  },
  {
   "cell_type": "code",
   "execution_count": 642,
   "id": "a7162051",
   "metadata": {},
   "outputs": [
    {
     "data": {
      "text/html": [
       "<div>\n",
       "<style scoped>\n",
       "    .dataframe tbody tr th:only-of-type {\n",
       "        vertical-align: middle;\n",
       "    }\n",
       "\n",
       "    .dataframe tbody tr th {\n",
       "        vertical-align: top;\n",
       "    }\n",
       "\n",
       "    .dataframe thead th {\n",
       "        text-align: right;\n",
       "    }\n",
       "</style>\n",
       "<table border=\"1\" class=\"dataframe\">\n",
       "  <thead>\n",
       "    <tr style=\"text-align: right;\">\n",
       "      <th></th>\n",
       "      <th>Worker</th>\n",
       "      <th>Wage</th>\n",
       "    </tr>\n",
       "    <tr>\n",
       "      <th>Departmans</th>\n",
       "      <th></th>\n",
       "      <th></th>\n",
       "    </tr>\n",
       "  </thead>\n",
       "  <tbody>\n",
       "    <tr>\n",
       "      <th>Human Resources</th>\n",
       "      <td>2</td>\n",
       "      <td>2</td>\n",
       "    </tr>\n",
       "    <tr>\n",
       "      <th>Journalist</th>\n",
       "      <td>2</td>\n",
       "      <td>2</td>\n",
       "    </tr>\n",
       "    <tr>\n",
       "      <th>Software</th>\n",
       "      <td>2</td>\n",
       "      <td>2</td>\n",
       "    </tr>\n",
       "  </tbody>\n",
       "</table>\n",
       "</div>"
      ],
      "text/plain": [
       "                 Worker  Wage\n",
       "Departmans                   \n",
       "Human Resources       2     2\n",
       "Journalist            2     2\n",
       "Software              2     2"
      ]
     },
     "execution_count": 642,
     "metadata": {},
     "output_type": "execute_result"
    }
   ],
   "source": [
    "groupObject.count()"
   ]
  },
  {
   "cell_type": "code",
   "execution_count": 643,
   "id": "563439da",
   "metadata": {},
   "outputs": [
    {
     "data": {
      "text/html": [
       "<div>\n",
       "<style scoped>\n",
       "    .dataframe tbody tr th:only-of-type {\n",
       "        vertical-align: middle;\n",
       "    }\n",
       "\n",
       "    .dataframe tbody tr th {\n",
       "        vertical-align: top;\n",
       "    }\n",
       "\n",
       "    .dataframe thead th {\n",
       "        text-align: right;\n",
       "    }\n",
       "</style>\n",
       "<table border=\"1\" class=\"dataframe\">\n",
       "  <thead>\n",
       "    <tr style=\"text-align: right;\">\n",
       "      <th></th>\n",
       "      <th>Wage</th>\n",
       "    </tr>\n",
       "    <tr>\n",
       "      <th>Departmans</th>\n",
       "      <th></th>\n",
       "    </tr>\n",
       "  </thead>\n",
       "  <tbody>\n",
       "    <tr>\n",
       "      <th>Human Resources</th>\n",
       "      <td>6250.0</td>\n",
       "    </tr>\n",
       "    <tr>\n",
       "      <th>Journalist</th>\n",
       "      <td>4750.0</td>\n",
       "    </tr>\n",
       "    <tr>\n",
       "      <th>Software</th>\n",
       "      <td>4500.0</td>\n",
       "    </tr>\n",
       "  </tbody>\n",
       "</table>\n",
       "</div>"
      ],
      "text/plain": [
       "                   Wage\n",
       "Departmans             \n",
       "Human Resources  6250.0\n",
       "Journalist       4750.0\n",
       "Software         4500.0"
      ]
     },
     "execution_count": 643,
     "metadata": {},
     "output_type": "execute_result"
    }
   ],
   "source": [
    "groupObject.mean()"
   ]
  },
  {
   "cell_type": "code",
   "execution_count": 644,
   "id": "73595ec3",
   "metadata": {},
   "outputs": [
    {
     "data": {
      "text/html": [
       "<div>\n",
       "<style scoped>\n",
       "    .dataframe tbody tr th:only-of-type {\n",
       "        vertical-align: middle;\n",
       "    }\n",
       "\n",
       "    .dataframe tbody tr th {\n",
       "        vertical-align: top;\n",
       "    }\n",
       "\n",
       "    .dataframe thead th {\n",
       "        text-align: right;\n",
       "    }\n",
       "</style>\n",
       "<table border=\"1\" class=\"dataframe\">\n",
       "  <thead>\n",
       "    <tr style=\"text-align: right;\">\n",
       "      <th></th>\n",
       "      <th>Worker</th>\n",
       "      <th>Wage</th>\n",
       "    </tr>\n",
       "    <tr>\n",
       "      <th>Departmans</th>\n",
       "      <th></th>\n",
       "      <th></th>\n",
       "    </tr>\n",
       "  </thead>\n",
       "  <tbody>\n",
       "    <tr>\n",
       "      <th>Human Resources</th>\n",
       "      <td>Gabriel</td>\n",
       "      <td>6500</td>\n",
       "    </tr>\n",
       "    <tr>\n",
       "      <th>Journalist</th>\n",
       "      <td>Marianna</td>\n",
       "      <td>5000</td>\n",
       "    </tr>\n",
       "    <tr>\n",
       "      <th>Software</th>\n",
       "      <td>Robert</td>\n",
       "      <td>5000</td>\n",
       "    </tr>\n",
       "  </tbody>\n",
       "</table>\n",
       "</div>"
      ],
      "text/plain": [
       "                   Worker  Wage\n",
       "Departmans                     \n",
       "Human Resources   Gabriel  6500\n",
       "Journalist       Marianna  5000\n",
       "Software           Robert  5000"
      ]
     },
     "execution_count": 644,
     "metadata": {},
     "output_type": "execute_result"
    }
   ],
   "source": [
    "groupObject.max()"
   ]
  },
  {
   "cell_type": "code",
   "execution_count": 645,
   "id": "1236c1c8",
   "metadata": {},
   "outputs": [
    {
     "data": {
      "text/html": [
       "<div>\n",
       "<style scoped>\n",
       "    .dataframe tbody tr th:only-of-type {\n",
       "        vertical-align: middle;\n",
       "    }\n",
       "\n",
       "    .dataframe tbody tr th {\n",
       "        vertical-align: top;\n",
       "    }\n",
       "\n",
       "    .dataframe thead th {\n",
       "        text-align: right;\n",
       "    }\n",
       "</style>\n",
       "<table border=\"1\" class=\"dataframe\">\n",
       "  <thead>\n",
       "    <tr style=\"text-align: right;\">\n",
       "      <th></th>\n",
       "      <th>Worker</th>\n",
       "      <th>Wage</th>\n",
       "    </tr>\n",
       "    <tr>\n",
       "      <th>Departmans</th>\n",
       "      <th></th>\n",
       "      <th></th>\n",
       "    </tr>\n",
       "  </thead>\n",
       "  <tbody>\n",
       "    <tr>\n",
       "      <th>Human Resources</th>\n",
       "      <td>Adriana</td>\n",
       "      <td>6000</td>\n",
       "    </tr>\n",
       "    <tr>\n",
       "      <th>Journalist</th>\n",
       "      <td>James</td>\n",
       "      <td>4500</td>\n",
       "    </tr>\n",
       "    <tr>\n",
       "      <th>Software</th>\n",
       "      <td>Jack</td>\n",
       "      <td>4000</td>\n",
       "    </tr>\n",
       "  </tbody>\n",
       "</table>\n",
       "</div>"
      ],
      "text/plain": [
       "                  Worker  Wage\n",
       "Departmans                    \n",
       "Human Resources  Adriana  6000\n",
       "Journalist         James  4500\n",
       "Software            Jack  4000"
      ]
     },
     "execution_count": 645,
     "metadata": {},
     "output_type": "execute_result"
    }
   ],
   "source": [
    "groupObject.min()"
   ]
  },
  {
   "cell_type": "code",
   "execution_count": 646,
   "id": "a27ef3b3",
   "metadata": {},
   "outputs": [
    {
     "data": {
      "text/html": [
       "<div>\n",
       "<style scoped>\n",
       "    .dataframe tbody tr th:only-of-type {\n",
       "        vertical-align: middle;\n",
       "    }\n",
       "\n",
       "    .dataframe tbody tr th {\n",
       "        vertical-align: top;\n",
       "    }\n",
       "\n",
       "    .dataframe thead tr th {\n",
       "        text-align: left;\n",
       "    }\n",
       "\n",
       "    .dataframe thead tr:last-of-type th {\n",
       "        text-align: right;\n",
       "    }\n",
       "</style>\n",
       "<table border=\"1\" class=\"dataframe\">\n",
       "  <thead>\n",
       "    <tr>\n",
       "      <th></th>\n",
       "      <th colspan=\"8\" halign=\"left\">Wage</th>\n",
       "    </tr>\n",
       "    <tr>\n",
       "      <th></th>\n",
       "      <th>count</th>\n",
       "      <th>mean</th>\n",
       "      <th>std</th>\n",
       "      <th>min</th>\n",
       "      <th>25%</th>\n",
       "      <th>50%</th>\n",
       "      <th>75%</th>\n",
       "      <th>max</th>\n",
       "    </tr>\n",
       "    <tr>\n",
       "      <th>Departmans</th>\n",
       "      <th></th>\n",
       "      <th></th>\n",
       "      <th></th>\n",
       "      <th></th>\n",
       "      <th></th>\n",
       "      <th></th>\n",
       "      <th></th>\n",
       "      <th></th>\n",
       "    </tr>\n",
       "  </thead>\n",
       "  <tbody>\n",
       "    <tr>\n",
       "      <th>Human Resources</th>\n",
       "      <td>2.0</td>\n",
       "      <td>6250.0</td>\n",
       "      <td>353.553391</td>\n",
       "      <td>6000.0</td>\n",
       "      <td>6125.0</td>\n",
       "      <td>6250.0</td>\n",
       "      <td>6375.0</td>\n",
       "      <td>6500.0</td>\n",
       "    </tr>\n",
       "    <tr>\n",
       "      <th>Journalist</th>\n",
       "      <td>2.0</td>\n",
       "      <td>4750.0</td>\n",
       "      <td>353.553391</td>\n",
       "      <td>4500.0</td>\n",
       "      <td>4625.0</td>\n",
       "      <td>4750.0</td>\n",
       "      <td>4875.0</td>\n",
       "      <td>5000.0</td>\n",
       "    </tr>\n",
       "    <tr>\n",
       "      <th>Software</th>\n",
       "      <td>2.0</td>\n",
       "      <td>4500.0</td>\n",
       "      <td>707.106781</td>\n",
       "      <td>4000.0</td>\n",
       "      <td>4250.0</td>\n",
       "      <td>4500.0</td>\n",
       "      <td>4750.0</td>\n",
       "      <td>5000.0</td>\n",
       "    </tr>\n",
       "  </tbody>\n",
       "</table>\n",
       "</div>"
      ],
      "text/plain": [
       "                 Wage                                                      \\\n",
       "                count    mean         std     min     25%     50%     75%   \n",
       "Departmans                                                                  \n",
       "Human Resources   2.0  6250.0  353.553391  6000.0  6125.0  6250.0  6375.0   \n",
       "Journalist        2.0  4750.0  353.553391  4500.0  4625.0  4750.0  4875.0   \n",
       "Software          2.0  4500.0  707.106781  4000.0  4250.0  4500.0  4750.0   \n",
       "\n",
       "                         \n",
       "                    max  \n",
       "Departmans               \n",
       "Human Resources  6500.0  \n",
       "Journalist       5000.0  \n",
       "Software         5000.0  "
      ]
     },
     "execution_count": 646,
     "metadata": {},
     "output_type": "execute_result"
    }
   ],
   "source": [
    "groupObject.describe()"
   ]
  },
  {
   "cell_type": "markdown",
   "id": "221f8800",
   "metadata": {},
   "source": [
    "# Concat"
   ]
  },
  {
   "cell_type": "code",
   "execution_count": 647,
   "id": "fb990274",
   "metadata": {},
   "outputs": [
    {
     "data": {
      "text/plain": [
       "{'Name': ['Ahmet', 'Mehmet', 'Zeynep', 'Anıl'],\n",
       " 'Spor': ['Runner', 'Swimmer', 'Runner', 'NBA Player'],\n",
       " 'Wage': [5000, 6000, 7000, 8000]}"
      ]
     },
     "execution_count": 647,
     "metadata": {},
     "output_type": "execute_result"
    }
   ],
   "source": [
    "dict1 = {'Name': ['Ahmet','Mehmet','Zeynep','Anıl'],\n",
    "         'Spor': ['Runner','Swimmer','Runner','NBA Player'],\n",
    "         'Wage':[5000,6000,7000,8000]}\n",
    "dict1"
   ]
  },
  {
   "cell_type": "code",
   "execution_count": 648,
   "id": "0571c35d",
   "metadata": {
    "scrolled": true
   },
   "outputs": [
    {
     "data": {
      "text/plain": [
       "{'Name': ['Ahmet', 'Mehmet', 'Zeynep', 'Anıl'],\n",
       " 'Spor': ['Runner', 'Swimmer', 'Runner', 'NBA Player'],\n",
       " 'Wage': [5000, 6000, 7000, 8000]}"
      ]
     },
     "execution_count": 648,
     "metadata": {},
     "output_type": "execute_result"
    }
   ],
   "source": [
    "dict1"
   ]
  },
  {
   "cell_type": "code",
   "execution_count": 649,
   "id": "ec7b390b",
   "metadata": {},
   "outputs": [
    {
     "data": {
      "text/html": [
       "<div>\n",
       "<style scoped>\n",
       "    .dataframe tbody tr th:only-of-type {\n",
       "        vertical-align: middle;\n",
       "    }\n",
       "\n",
       "    .dataframe tbody tr th {\n",
       "        vertical-align: top;\n",
       "    }\n",
       "\n",
       "    .dataframe thead th {\n",
       "        text-align: right;\n",
       "    }\n",
       "</style>\n",
       "<table border=\"1\" class=\"dataframe\">\n",
       "  <thead>\n",
       "    <tr style=\"text-align: right;\">\n",
       "      <th></th>\n",
       "      <th>Name</th>\n",
       "      <th>Spor</th>\n",
       "      <th>Wage</th>\n",
       "    </tr>\n",
       "  </thead>\n",
       "  <tbody>\n",
       "    <tr>\n",
       "      <th>0</th>\n",
       "      <td>Ahmet</td>\n",
       "      <td>Runner</td>\n",
       "      <td>5000</td>\n",
       "    </tr>\n",
       "    <tr>\n",
       "      <th>1</th>\n",
       "      <td>Mehmet</td>\n",
       "      <td>Swimmer</td>\n",
       "      <td>6000</td>\n",
       "    </tr>\n",
       "    <tr>\n",
       "      <th>2</th>\n",
       "      <td>Zeynep</td>\n",
       "      <td>Runner</td>\n",
       "      <td>7000</td>\n",
       "    </tr>\n",
       "    <tr>\n",
       "      <th>3</th>\n",
       "      <td>Anıl</td>\n",
       "      <td>NBA Player</td>\n",
       "      <td>8000</td>\n",
       "    </tr>\n",
       "  </tbody>\n",
       "</table>\n",
       "</div>"
      ],
      "text/plain": [
       "     Name        Spor  Wage\n",
       "0   Ahmet      Runner  5000\n",
       "1  Mehmet     Swimmer  6000\n",
       "2  Zeynep      Runner  7000\n",
       "3    Anıl  NBA Player  8000"
      ]
     },
     "execution_count": 649,
     "metadata": {},
     "output_type": "execute_result"
    }
   ],
   "source": [
    "dict1 = pd.DataFrame(dict1,index=[0,1,2,3])\n",
    "dict1"
   ]
  },
  {
   "cell_type": "code",
   "execution_count": 650,
   "id": "c007f820",
   "metadata": {},
   "outputs": [
    {
     "data": {
      "text/html": [
       "<div>\n",
       "<style scoped>\n",
       "    .dataframe tbody tr th:only-of-type {\n",
       "        vertical-align: middle;\n",
       "    }\n",
       "\n",
       "    .dataframe tbody tr th {\n",
       "        vertical-align: top;\n",
       "    }\n",
       "\n",
       "    .dataframe thead th {\n",
       "        text-align: right;\n",
       "    }\n",
       "</style>\n",
       "<table border=\"1\" class=\"dataframe\">\n",
       "  <thead>\n",
       "    <tr style=\"text-align: right;\">\n",
       "      <th></th>\n",
       "      <th>Name</th>\n",
       "      <th>Spor</th>\n",
       "      <th>Wage</th>\n",
       "    </tr>\n",
       "  </thead>\n",
       "  <tbody>\n",
       "    <tr>\n",
       "      <th>4</th>\n",
       "      <td>Deniz</td>\n",
       "      <td>Runner</td>\n",
       "      <td>3000</td>\n",
       "    </tr>\n",
       "    <tr>\n",
       "      <th>5</th>\n",
       "      <td>Ece</td>\n",
       "      <td>Swimmer</td>\n",
       "      <td>11000</td>\n",
       "    </tr>\n",
       "    <tr>\n",
       "      <th>6</th>\n",
       "      <td>Aslı</td>\n",
       "      <td>Runner</td>\n",
       "      <td>6000</td>\n",
       "    </tr>\n",
       "    <tr>\n",
       "      <th>7</th>\n",
       "      <td>Ada</td>\n",
       "      <td>NBA Player</td>\n",
       "      <td>4000</td>\n",
       "    </tr>\n",
       "  </tbody>\n",
       "</table>\n",
       "</div>"
      ],
      "text/plain": [
       "    Name        Spor   Wage\n",
       "4  Deniz      Runner   3000\n",
       "5    Ece     Swimmer  11000\n",
       "6   Aslı      Runner   6000\n",
       "7    Ada  NBA Player   4000"
      ]
     },
     "execution_count": 650,
     "metadata": {},
     "output_type": "execute_result"
    }
   ],
   "source": [
    "dict2 = {'Name': ['Deniz','Ece','Aslı','Ada'],\n",
    "         'Spor': ['Runner','Swimmer','Runner','NBA Player'],\n",
    "         'Wage':[3000,11000,6000,4000]}\n",
    "dict2 = pd.DataFrame(dict2,index=[4,5,6,7])\n",
    "dict2"
   ]
  },
  {
   "cell_type": "code",
   "execution_count": 651,
   "id": "cfc8022f",
   "metadata": {},
   "outputs": [
    {
     "data": {
      "text/html": [
       "<div>\n",
       "<style scoped>\n",
       "    .dataframe tbody tr th:only-of-type {\n",
       "        vertical-align: middle;\n",
       "    }\n",
       "\n",
       "    .dataframe tbody tr th {\n",
       "        vertical-align: top;\n",
       "    }\n",
       "\n",
       "    .dataframe thead th {\n",
       "        text-align: right;\n",
       "    }\n",
       "</style>\n",
       "<table border=\"1\" class=\"dataframe\">\n",
       "  <thead>\n",
       "    <tr style=\"text-align: right;\">\n",
       "      <th></th>\n",
       "      <th>Name</th>\n",
       "      <th>Spor</th>\n",
       "      <th>Wage</th>\n",
       "    </tr>\n",
       "  </thead>\n",
       "  <tbody>\n",
       "    <tr>\n",
       "      <th>8</th>\n",
       "      <td>Ayse</td>\n",
       "      <td>Runner</td>\n",
       "      <td>8000</td>\n",
       "    </tr>\n",
       "    <tr>\n",
       "      <th>9</th>\n",
       "      <td>Gamze</td>\n",
       "      <td>Swimmer</td>\n",
       "      <td>4000</td>\n",
       "    </tr>\n",
       "    <tr>\n",
       "      <th>10</th>\n",
       "      <td>Duygu</td>\n",
       "      <td>Runner</td>\n",
       "      <td>9000</td>\n",
       "    </tr>\n",
       "    <tr>\n",
       "      <th>11</th>\n",
       "      <td>Okan</td>\n",
       "      <td>NBA Player</td>\n",
       "      <td>12000</td>\n",
       "    </tr>\n",
       "  </tbody>\n",
       "</table>\n",
       "</div>"
      ],
      "text/plain": [
       "     Name        Spor   Wage\n",
       "8    Ayse      Runner   8000\n",
       "9   Gamze     Swimmer   4000\n",
       "10  Duygu      Runner   9000\n",
       "11   Okan  NBA Player  12000"
      ]
     },
     "execution_count": 651,
     "metadata": {},
     "output_type": "execute_result"
    }
   ],
   "source": [
    "dict3 = {'Name': ['Ayse','Gamze','Duygu','Okan'],\n",
    "         'Spor': ['Runner','Swimmer','Runner','NBA Player'],\n",
    "         'Wage':[8000,4000,9000,12000]}\n",
    "dict3 = pd.DataFrame(dict3,index=[8,9,10,11])\n",
    "dict3"
   ]
  },
  {
   "cell_type": "code",
   "execution_count": 652,
   "id": "62c79999",
   "metadata": {},
   "outputs": [
    {
     "data": {
      "text/html": [
       "<div>\n",
       "<style scoped>\n",
       "    .dataframe tbody tr th:only-of-type {\n",
       "        vertical-align: middle;\n",
       "    }\n",
       "\n",
       "    .dataframe tbody tr th {\n",
       "        vertical-align: top;\n",
       "    }\n",
       "\n",
       "    .dataframe thead th {\n",
       "        text-align: right;\n",
       "    }\n",
       "</style>\n",
       "<table border=\"1\" class=\"dataframe\">\n",
       "  <thead>\n",
       "    <tr style=\"text-align: right;\">\n",
       "      <th></th>\n",
       "      <th>Name</th>\n",
       "      <th>Spor</th>\n",
       "      <th>Wage</th>\n",
       "    </tr>\n",
       "  </thead>\n",
       "  <tbody>\n",
       "    <tr>\n",
       "      <th>0</th>\n",
       "      <td>Ahmet</td>\n",
       "      <td>Runner</td>\n",
       "      <td>5000</td>\n",
       "    </tr>\n",
       "    <tr>\n",
       "      <th>1</th>\n",
       "      <td>Mehmet</td>\n",
       "      <td>Swimmer</td>\n",
       "      <td>6000</td>\n",
       "    </tr>\n",
       "    <tr>\n",
       "      <th>2</th>\n",
       "      <td>Zeynep</td>\n",
       "      <td>Runner</td>\n",
       "      <td>7000</td>\n",
       "    </tr>\n",
       "    <tr>\n",
       "      <th>3</th>\n",
       "      <td>Anıl</td>\n",
       "      <td>NBA Player</td>\n",
       "      <td>8000</td>\n",
       "    </tr>\n",
       "    <tr>\n",
       "      <th>4</th>\n",
       "      <td>Deniz</td>\n",
       "      <td>Runner</td>\n",
       "      <td>3000</td>\n",
       "    </tr>\n",
       "    <tr>\n",
       "      <th>5</th>\n",
       "      <td>Ece</td>\n",
       "      <td>Swimmer</td>\n",
       "      <td>11000</td>\n",
       "    </tr>\n",
       "    <tr>\n",
       "      <th>6</th>\n",
       "      <td>Aslı</td>\n",
       "      <td>Runner</td>\n",
       "      <td>6000</td>\n",
       "    </tr>\n",
       "    <tr>\n",
       "      <th>7</th>\n",
       "      <td>Ada</td>\n",
       "      <td>NBA Player</td>\n",
       "      <td>4000</td>\n",
       "    </tr>\n",
       "    <tr>\n",
       "      <th>8</th>\n",
       "      <td>Ayse</td>\n",
       "      <td>Runner</td>\n",
       "      <td>8000</td>\n",
       "    </tr>\n",
       "    <tr>\n",
       "      <th>9</th>\n",
       "      <td>Gamze</td>\n",
       "      <td>Swimmer</td>\n",
       "      <td>4000</td>\n",
       "    </tr>\n",
       "    <tr>\n",
       "      <th>10</th>\n",
       "      <td>Duygu</td>\n",
       "      <td>Runner</td>\n",
       "      <td>9000</td>\n",
       "    </tr>\n",
       "    <tr>\n",
       "      <th>11</th>\n",
       "      <td>Okan</td>\n",
       "      <td>NBA Player</td>\n",
       "      <td>12000</td>\n",
       "    </tr>\n",
       "  </tbody>\n",
       "</table>\n",
       "</div>"
      ],
      "text/plain": [
       "      Name        Spor   Wage\n",
       "0    Ahmet      Runner   5000\n",
       "1   Mehmet     Swimmer   6000\n",
       "2   Zeynep      Runner   7000\n",
       "3     Anıl  NBA Player   8000\n",
       "4    Deniz      Runner   3000\n",
       "5      Ece     Swimmer  11000\n",
       "6     Aslı      Runner   6000\n",
       "7      Ada  NBA Player   4000\n",
       "8     Ayse      Runner   8000\n",
       "9    Gamze     Swimmer   4000\n",
       "10   Duygu      Runner   9000\n",
       "11    Okan  NBA Player  12000"
      ]
     },
     "execution_count": 652,
     "metadata": {},
     "output_type": "execute_result"
    }
   ],
   "source": [
    "pd.concat([dict1,dict2,dict3],axis=0)"
   ]
  },
  {
   "cell_type": "markdown",
   "id": "991d7151",
   "metadata": {},
   "source": [
    "# Merge"
   ]
  },
  {
   "cell_type": "code",
   "execution_count": 658,
   "id": "8fdb427c",
   "metadata": {},
   "outputs": [
    {
     "data": {
      "text/plain": [
       "{'Name': ['Ahmet', 'Mehmet', 'Zeynep', 'Anıl'],\n",
       " 'Wage': [5000, 6000, 7000, 8000]}"
      ]
     },
     "execution_count": 658,
     "metadata": {},
     "output_type": "execute_result"
    }
   ],
   "source": [
    "dict4 = {'Name': ['Ahmet','Mehmet','Zeynep','Anıl'],\n",
    "         'Wage':[5000,6000,7000,8000]}\n",
    "dict4"
   ]
  },
  {
   "cell_type": "code",
   "execution_count": 659,
   "id": "b6625b45",
   "metadata": {},
   "outputs": [
    {
     "data": {
      "text/plain": [
       "{'Name': ['Ahmet', 'Mehmet', 'Zeynep', 'Anıl'],\n",
       " 'Spor': ['Runner', 'Swimmer', 'Runner', 'NBA Player']}"
      ]
     },
     "execution_count": 659,
     "metadata": {},
     "output_type": "execute_result"
    }
   ],
   "source": [
    "dict5 = {'Name': ['Ahmet','Mehmet','Zeynep','Anıl'],\n",
    "         'Spor': ['Runner','Swimmer','Runner','NBA Player']}\n",
    "dict5"
   ]
  },
  {
   "cell_type": "code",
   "execution_count": 660,
   "id": "7988b862",
   "metadata": {},
   "outputs": [],
   "source": [
    "dict4 = pd.DataFrame(dict4)\n",
    "dict5 = pd.DataFrame(dict5)"
   ]
  },
  {
   "cell_type": "code",
   "execution_count": 661,
   "id": "467f0a80",
   "metadata": {},
   "outputs": [
    {
     "data": {
      "text/html": [
       "<div>\n",
       "<style scoped>\n",
       "    .dataframe tbody tr th:only-of-type {\n",
       "        vertical-align: middle;\n",
       "    }\n",
       "\n",
       "    .dataframe tbody tr th {\n",
       "        vertical-align: top;\n",
       "    }\n",
       "\n",
       "    .dataframe thead th {\n",
       "        text-align: right;\n",
       "    }\n",
       "</style>\n",
       "<table border=\"1\" class=\"dataframe\">\n",
       "  <thead>\n",
       "    <tr style=\"text-align: right;\">\n",
       "      <th></th>\n",
       "      <th>Name</th>\n",
       "      <th>Wage</th>\n",
       "      <th>Spor</th>\n",
       "    </tr>\n",
       "  </thead>\n",
       "  <tbody>\n",
       "    <tr>\n",
       "      <th>0</th>\n",
       "      <td>Ahmet</td>\n",
       "      <td>5000</td>\n",
       "      <td>Runner</td>\n",
       "    </tr>\n",
       "    <tr>\n",
       "      <th>1</th>\n",
       "      <td>Mehmet</td>\n",
       "      <td>6000</td>\n",
       "      <td>Swimmer</td>\n",
       "    </tr>\n",
       "    <tr>\n",
       "      <th>2</th>\n",
       "      <td>Zeynep</td>\n",
       "      <td>7000</td>\n",
       "      <td>Runner</td>\n",
       "    </tr>\n",
       "    <tr>\n",
       "      <th>3</th>\n",
       "      <td>Anıl</td>\n",
       "      <td>8000</td>\n",
       "      <td>NBA Player</td>\n",
       "    </tr>\n",
       "  </tbody>\n",
       "</table>\n",
       "</div>"
      ],
      "text/plain": [
       "     Name  Wage        Spor\n",
       "0   Ahmet  5000      Runner\n",
       "1  Mehmet  6000     Swimmer\n",
       "2  Zeynep  7000      Runner\n",
       "3    Anıl  8000  NBA Player"
      ]
     },
     "execution_count": 661,
     "metadata": {},
     "output_type": "execute_result"
    }
   ],
   "source": [
    "pd.merge(dict4,dict5,on='Name')"
   ]
  },
  {
   "cell_type": "code",
   "execution_count": 662,
   "id": "4974bf79",
   "metadata": {},
   "outputs": [],
   "source": [
    "##Yeni veriler yada sütunlar eklemek için concat kullanabiliriz\n",
    "##Ortak noktası bulunan 2 tabloyu birleştirmek için merge kullanabiliriz"
   ]
  },
  {
   "cell_type": "markdown",
   "id": "3b6829ce",
   "metadata": {},
   "source": [
    " # Advanced"
   ]
  },
  {
   "cell_type": "code",
   "execution_count": 665,
   "id": "f1bdeed6",
   "metadata": {},
   "outputs": [
    {
     "data": {
      "text/html": [
       "<div>\n",
       "<style scoped>\n",
       "    .dataframe tbody tr th:only-of-type {\n",
       "        vertical-align: middle;\n",
       "    }\n",
       "\n",
       "    .dataframe tbody tr th {\n",
       "        vertical-align: top;\n",
       "    }\n",
       "\n",
       "    .dataframe thead th {\n",
       "        text-align: right;\n",
       "    }\n",
       "</style>\n",
       "<table border=\"1\" class=\"dataframe\">\n",
       "  <thead>\n",
       "    <tr style=\"text-align: right;\">\n",
       "      <th></th>\n",
       "      <th>Departmans</th>\n",
       "      <th>Worker</th>\n",
       "      <th>Wage</th>\n",
       "    </tr>\n",
       "  </thead>\n",
       "  <tbody>\n",
       "    <tr>\n",
       "      <th>0</th>\n",
       "      <td>Software</td>\n",
       "      <td>Jack</td>\n",
       "      <td>5000</td>\n",
       "    </tr>\n",
       "    <tr>\n",
       "      <th>1</th>\n",
       "      <td>Software</td>\n",
       "      <td>Robert</td>\n",
       "      <td>4000</td>\n",
       "    </tr>\n",
       "    <tr>\n",
       "      <th>2</th>\n",
       "      <td>Journalist</td>\n",
       "      <td>Marianna</td>\n",
       "      <td>4500</td>\n",
       "    </tr>\n",
       "    <tr>\n",
       "      <th>3</th>\n",
       "      <td>Journalist</td>\n",
       "      <td>James</td>\n",
       "      <td>5000</td>\n",
       "    </tr>\n",
       "    <tr>\n",
       "      <th>4</th>\n",
       "      <td>Human Resources</td>\n",
       "      <td>Adriana</td>\n",
       "      <td>6000</td>\n",
       "    </tr>\n",
       "    <tr>\n",
       "      <th>5</th>\n",
       "      <td>Human Resources</td>\n",
       "      <td>Gabriel</td>\n",
       "      <td>6500</td>\n",
       "    </tr>\n",
       "  </tbody>\n",
       "</table>\n",
       "</div>"
      ],
      "text/plain": [
       "        Departmans    Worker  Wage\n",
       "0         Software      Jack  5000\n",
       "1         Software    Robert  4000\n",
       "2       Journalist  Marianna  4500\n",
       "3       Journalist     James  5000\n",
       "4  Human Resources   Adriana  6000\n",
       "5  Human Resources   Gabriel  6500"
      ]
     },
     "execution_count": 665,
     "metadata": {},
     "output_type": "execute_result"
    }
   ],
   "source": [
    "wageDict = {'Departmans': [\"Software\",\"Software\",\"Journalist\",\"Journalist\",\"Human Resources\",\"Human Resources\"],\n",
    "            \"Worker\":[\"Jack\",\"Robert\",\"Marianna\",\"James\",\"Adriana\",\"Gabriel\"],\n",
    "           \"Wage\":[5000,4000,4500,5000,6000,6500]}\n",
    "wageDict = pd.DataFrame(wageDict)\n",
    "wageDict"
   ]
  },
  {
   "cell_type": "code",
   "execution_count": 671,
   "id": "19c264c3",
   "metadata": {},
   "outputs": [
    {
     "data": {
      "text/plain": [
       "array(['Software', 'Journalist', 'Human Resources'], dtype=object)"
      ]
     },
     "execution_count": 671,
     "metadata": {},
     "output_type": "execute_result"
    }
   ],
   "source": [
    "wageDict['Departmans'].unique()"
   ]
  },
  {
   "cell_type": "code",
   "execution_count": 672,
   "id": "2b73af3f",
   "metadata": {},
   "outputs": [
    {
     "data": {
      "text/plain": [
       "3"
      ]
     },
     "execution_count": 672,
     "metadata": {},
     "output_type": "execute_result"
    }
   ],
   "source": [
    "wageDict['Departmans'].unique().size"
   ]
  },
  {
   "cell_type": "code",
   "execution_count": 674,
   "id": "eb43e77c",
   "metadata": {},
   "outputs": [
    {
     "data": {
      "text/plain": [
       "3"
      ]
     },
     "execution_count": 674,
     "metadata": {},
     "output_type": "execute_result"
    }
   ],
   "source": [
    "wageDict['Departmans'].nunique()"
   ]
  },
  {
   "cell_type": "code",
   "execution_count": 675,
   "id": "7e44843e",
   "metadata": {},
   "outputs": [
    {
     "data": {
      "text/plain": [
       "Software           2\n",
       "Journalist         2\n",
       "Human Resources    2\n",
       "Name: Departmans, dtype: int64"
      ]
     },
     "execution_count": 675,
     "metadata": {},
     "output_type": "execute_result"
    }
   ],
   "source": [
    "wageDict['Departmans'].value_counts()"
   ]
  },
  {
   "cell_type": "code",
   "execution_count": 678,
   "id": "79fae493",
   "metadata": {},
   "outputs": [],
   "source": [
    "def raiseWage(wage):\n",
    "    return wage * 1.25"
   ]
  },
  {
   "cell_type": "code",
   "execution_count": 681,
   "id": "a36e8b67",
   "metadata": {
    "scrolled": true
   },
   "outputs": [
    {
     "data": {
      "text/plain": [
       "0    6250.0\n",
       "1    5000.0\n",
       "2    5625.0\n",
       "3    6250.0\n",
       "4    7500.0\n",
       "5    8125.0\n",
       "Name: Wage, dtype: float64"
      ]
     },
     "execution_count": 681,
     "metadata": {},
     "output_type": "execute_result"
    }
   ],
   "source": [
    "wageDict['Wage'].apply(raiseWage)"
   ]
  }
 ],
 "metadata": {
  "kernelspec": {
   "display_name": "Python 3 (ipykernel)",
   "language": "python",
   "name": "python3"
  },
  "language_info": {
   "codemirror_mode": {
    "name": "ipython",
    "version": 3
   },
   "file_extension": ".py",
   "mimetype": "text/x-python",
   "name": "python",
   "nbconvert_exporter": "python",
   "pygments_lexer": "ipython3",
   "version": "3.9.7"
  }
 },
 "nbformat": 4,
 "nbformat_minor": 5
}
