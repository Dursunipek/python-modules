{
 "cells": [
  {
   "cell_type": "code",
   "execution_count": 1,
   "id": "5e19c076",
   "metadata": {},
   "outputs": [],
   "source": [
    "import numpy as np\n",
    "import pandas as pd\n",
    "import matplotlib.pyplot as plt"
   ]
  },
  {
   "cell_type": "markdown",
   "id": "08242e8a",
   "metadata": {},
   "source": [
    "# --- Numpy ---"
   ]
  },
  {
   "cell_type": "markdown",
   "id": "5af5f6b6",
   "metadata": {},
   "source": [
    "# Array"
   ]
  },
  {
   "cell_type": "code",
   "execution_count": 2,
   "id": "379b3738",
   "metadata": {},
   "outputs": [],
   "source": [
    "myList = list(range(10,100,10))"
   ]
  },
  {
   "cell_type": "code",
   "execution_count": 3,
   "id": "62e3b19d",
   "metadata": {},
   "outputs": [
    {
     "name": "stdout",
     "output_type": "stream",
     "text": [
      "[10, 20, 30, 40, 50, 60, 70, 80, 90]\n"
     ]
    },
    {
     "data": {
      "text/plain": [
       "list"
      ]
     },
     "execution_count": 3,
     "metadata": {},
     "output_type": "execute_result"
    }
   ],
   "source": [
    "print(myList)\n",
    "type(myList)"
   ]
  },
  {
   "cell_type": "code",
   "execution_count": 4,
   "id": "75de6166",
   "metadata": {},
   "outputs": [],
   "source": [
    "myListNp = np.array(myList)"
   ]
  },
  {
   "cell_type": "code",
   "execution_count": 5,
   "id": "36d5da98",
   "metadata": {},
   "outputs": [
    {
     "name": "stdout",
     "output_type": "stream",
     "text": [
      "[10 20 30 40 50 60 70 80 90]\n"
     ]
    },
    {
     "data": {
      "text/plain": [
       "numpy.ndarray"
      ]
     },
     "execution_count": 5,
     "metadata": {},
     "output_type": "execute_result"
    }
   ],
   "source": [
    "print(myListNp)\n",
    "type(myListNp)"
   ]
  },
  {
   "cell_type": "code",
   "execution_count": 6,
   "id": "792ac7e0",
   "metadata": {},
   "outputs": [],
   "source": [
    "matrixListe = np.array([myList,myList,myList])"
   ]
  },
  {
   "cell_type": "code",
   "execution_count": 7,
   "id": "1fba6b13",
   "metadata": {},
   "outputs": [
    {
     "data": {
      "text/plain": [
       "array([[10, 20, 30, 40, 50, 60, 70, 80, 90],\n",
       "       [10, 20, 30, 40, 50, 60, 70, 80, 90],\n",
       "       [10, 20, 30, 40, 50, 60, 70, 80, 90]])"
      ]
     },
     "execution_count": 7,
     "metadata": {},
     "output_type": "execute_result"
    }
   ],
   "source": [
    "matrixListe"
   ]
  },
  {
   "cell_type": "code",
   "execution_count": 8,
   "id": "e9b89836",
   "metadata": {},
   "outputs": [
    {
     "data": {
      "text/plain": [
       "array([10, 20, 30, 40, 50, 60, 70, 80, 90])"
      ]
     },
     "execution_count": 8,
     "metadata": {},
     "output_type": "execute_result"
    }
   ],
   "source": [
    "matrixListe[0]"
   ]
  },
  {
   "cell_type": "code",
   "execution_count": 9,
   "id": "127fe409",
   "metadata": {},
   "outputs": [
    {
     "data": {
      "text/plain": [
       "20"
      ]
     },
     "execution_count": 9,
     "metadata": {},
     "output_type": "execute_result"
    }
   ],
   "source": [
    "matrixListe[0][1]"
   ]
  },
  {
   "cell_type": "markdown",
   "id": "083cb598",
   "metadata": {},
   "source": [
    "# Arange"
   ]
  },
  {
   "cell_type": "code",
   "execution_count": 10,
   "id": "b65861cd",
   "metadata": {},
   "outputs": [
    {
     "data": {
      "text/plain": [
       "array([0, 1, 2, 3, 4, 5, 6, 7, 8, 9])"
      ]
     },
     "execution_count": 10,
     "metadata": {},
     "output_type": "execute_result"
    }
   ],
   "source": [
    "np.arange(0,10)"
   ]
  },
  {
   "cell_type": "code",
   "execution_count": 11,
   "id": "b1d05977",
   "metadata": {},
   "outputs": [
    {
     "data": {
      "text/plain": [
       "array([0, 2, 4, 6, 8])"
      ]
     },
     "execution_count": 11,
     "metadata": {},
     "output_type": "execute_result"
    }
   ],
   "source": [
    "np.arange(0,10,2)"
   ]
  },
  {
   "cell_type": "code",
   "execution_count": 12,
   "id": "ede29ea4",
   "metadata": {
    "scrolled": true
   },
   "outputs": [
    {
     "data": {
      "text/plain": [
       "array([[10,  9],\n",
       "       [ 8,  7],\n",
       "       [ 6,  5],\n",
       "       [ 4,  3],\n",
       "       [ 2,  1]])"
      ]
     },
     "execution_count": 12,
     "metadata": {},
     "output_type": "execute_result"
    }
   ],
   "source": [
    "np.arange(10,0,-1).reshape(5,2)"
   ]
  },
  {
   "cell_type": "markdown",
   "id": "f3fa2d3e",
   "metadata": {},
   "source": [
    "# zeros-ones"
   ]
  },
  {
   "cell_type": "code",
   "execution_count": 13,
   "id": "c300cdde",
   "metadata": {
    "scrolled": true
   },
   "outputs": [
    {
     "data": {
      "text/plain": [
       "array([[0., 0., 0., 0.],\n",
       "       [0., 0., 0., 0.],\n",
       "       [0., 0., 0., 0.],\n",
       "       [0., 0., 0., 0.],\n",
       "       [0., 0., 0., 0.]])"
      ]
     },
     "execution_count": 13,
     "metadata": {},
     "output_type": "execute_result"
    }
   ],
   "source": [
    "np.zeros(20).reshape(5,4)"
   ]
  },
  {
   "cell_type": "code",
   "execution_count": 14,
   "id": "883622c8",
   "metadata": {},
   "outputs": [
    {
     "data": {
      "text/plain": [
       "array([[1., 1., 1., 1.],\n",
       "       [1., 1., 1., 1.],\n",
       "       [1., 1., 1., 1.],\n",
       "       [1., 1., 1., 1.],\n",
       "       [1., 1., 1., 1.]])"
      ]
     },
     "execution_count": 14,
     "metadata": {},
     "output_type": "execute_result"
    }
   ],
   "source": [
    "np.ones(20).reshape(5,4)"
   ]
  },
  {
   "cell_type": "markdown",
   "id": "1db65e3f",
   "metadata": {},
   "source": [
    "# Linspace"
   ]
  },
  {
   "cell_type": "code",
   "execution_count": 15,
   "id": "017320c6",
   "metadata": {},
   "outputs": [
    {
     "data": {
      "text/plain": [
       "array([  0.,  25.,  50.,  75., 100.])"
      ]
     },
     "execution_count": 15,
     "metadata": {},
     "output_type": "execute_result"
    }
   ],
   "source": [
    "np.linspace(0,100,5)"
   ]
  },
  {
   "cell_type": "code",
   "execution_count": 16,
   "id": "761908de",
   "metadata": {},
   "outputs": [
    {
     "data": {
      "text/plain": [
       "array([  0.        ,   7.14285714,  14.28571429,  21.42857143,\n",
       "        28.57142857,  35.71428571,  42.85714286,  50.        ,\n",
       "        57.14285714,  64.28571429,  71.42857143,  78.57142857,\n",
       "        85.71428571,  92.85714286, 100.        ])"
      ]
     },
     "execution_count": 16,
     "metadata": {},
     "output_type": "execute_result"
    }
   ],
   "source": [
    "np.linspace(0,100,15)##Esit aralıklar ile boler"
   ]
  },
  {
   "cell_type": "markdown",
   "id": "216c1883",
   "metadata": {},
   "source": [
    "# Eye"
   ]
  },
  {
   "cell_type": "code",
   "execution_count": 17,
   "id": "c4d631e5",
   "metadata": {},
   "outputs": [
    {
     "data": {
      "text/plain": [
       "array([[1., 0., 0., 0., 0., 0.],\n",
       "       [0., 1., 0., 0., 0., 0.],\n",
       "       [0., 0., 1., 0., 0., 0.],\n",
       "       [0., 0., 0., 1., 0., 0.],\n",
       "       [0., 0., 0., 0., 1., 0.],\n",
       "       [0., 0., 0., 0., 0., 1.]])"
      ]
     },
     "execution_count": 17,
     "metadata": {},
     "output_type": "execute_result"
    }
   ],
   "source": [
    "np.eye(6)#Identity matrix\n",
    "#Kosegen 1 kalan matrix elemanları 0"
   ]
  },
  {
   "cell_type": "markdown",
   "id": "d81289d1",
   "metadata": {},
   "source": [
    "# Random"
   ]
  },
  {
   "cell_type": "code",
   "execution_count": 18,
   "id": "ce26af2f",
   "metadata": {},
   "outputs": [
    {
     "data": {
      "text/plain": [
       "array([-0.19304191,  0.67343111, -0.53201192,  1.3367105 ,  1.48213545,\n",
       "        0.57633724, -1.16824769, -3.21705216, -0.49612968, -2.21091345])"
      ]
     },
     "execution_count": 18,
     "metadata": {},
     "output_type": "execute_result"
    }
   ],
   "source": [
    "np.random.randn(10)#Tek boyutlu"
   ]
  },
  {
   "cell_type": "code",
   "execution_count": 19,
   "id": "7f81ad85",
   "metadata": {},
   "outputs": [
    {
     "data": {
      "text/plain": [
       "array([[-0.3572058 , -0.09856791,  0.42850155,  1.27772371,  0.13467724],\n",
       "       [-0.73727179,  1.04923827,  0.95206462,  0.07103935,  0.60441903],\n",
       "       [-0.19474476,  0.21834226,  0.25525098,  1.85252801, -1.13134674],\n",
       "       [ 0.42456883, -1.07302079,  0.14410562, -0.33138799,  0.40700183],\n",
       "       [-1.53048479, -0.92729044,  0.51549356,  0.40013265, -1.26133667]])"
      ]
     },
     "execution_count": 19,
     "metadata": {},
     "output_type": "execute_result"
    }
   ],
   "source": [
    "np.random.randn(5,5)#İki boyutlu"
   ]
  },
  {
   "cell_type": "code",
   "execution_count": 20,
   "id": "15337ae9",
   "metadata": {},
   "outputs": [
    {
     "data": {
      "text/plain": [
       "array([0.19802946, 0.10015988, 0.74014261, 0.71987026, 0.60617377])"
      ]
     },
     "execution_count": 20,
     "metadata": {},
     "output_type": "execute_result"
    }
   ],
   "source": [
    "np.random.random(5)"
   ]
  },
  {
   "cell_type": "code",
   "execution_count": 21,
   "id": "a6051ceb",
   "metadata": {},
   "outputs": [],
   "source": [
    "##Randn ile random arasındaki fark randn 2 parametre alabilir.\n",
    "##Randn 2 boyutlu dizi oluşturabilri ancak random tek boyutludur."
   ]
  },
  {
   "cell_type": "code",
   "execution_count": 22,
   "id": "e85849eb",
   "metadata": {},
   "outputs": [
    {
     "data": {
      "text/plain": [
       "array([15, 77, 64])"
      ]
     },
     "execution_count": 22,
     "metadata": {},
     "output_type": "execute_result"
    }
   ],
   "source": [
    "np.random.randint(1,100,3)#Tam sayı üretir"
   ]
  },
  {
   "cell_type": "markdown",
   "id": "9f8f95d5",
   "metadata": {},
   "source": [
    "# Numpy Array Methods"
   ]
  },
  {
   "cell_type": "code",
   "execution_count": 23,
   "id": "549477c0",
   "metadata": {},
   "outputs": [
    {
     "data": {
      "text/plain": [
       "array([53, 18, 75, 68, 55, 75,  4, 14, 54, 14, 52, 15, 39,  3, 53, 85, 42,\n",
       "       44, 35, 50])"
      ]
     },
     "execution_count": 23,
     "metadata": {},
     "output_type": "execute_result"
    }
   ],
   "source": [
    "array = np.random.randint(0,100,20)\n",
    "array"
   ]
  },
  {
   "cell_type": "code",
   "execution_count": 24,
   "id": "72105fb3",
   "metadata": {},
   "outputs": [
    {
     "data": {
      "text/plain": [
       "array([[53, 18, 75, 68],\n",
       "       [55, 75,  4, 14],\n",
       "       [54, 14, 52, 15],\n",
       "       [39,  3, 53, 85],\n",
       "       [42, 44, 35, 50]])"
      ]
     },
     "execution_count": 24,
     "metadata": {},
     "output_type": "execute_result"
    }
   ],
   "source": [
    "array.reshape(5,4)"
   ]
  },
  {
   "cell_type": "code",
   "execution_count": 25,
   "id": "55731456",
   "metadata": {},
   "outputs": [
    {
     "data": {
      "text/plain": [
       "85"
      ]
     },
     "execution_count": 25,
     "metadata": {},
     "output_type": "execute_result"
    }
   ],
   "source": [
    "array.max()"
   ]
  },
  {
   "cell_type": "code",
   "execution_count": 26,
   "id": "f2145f12",
   "metadata": {},
   "outputs": [
    {
     "data": {
      "text/plain": [
       "3"
      ]
     },
     "execution_count": 26,
     "metadata": {},
     "output_type": "execute_result"
    }
   ],
   "source": [
    "array.min()"
   ]
  },
  {
   "cell_type": "code",
   "execution_count": 27,
   "id": "db1cea94",
   "metadata": {},
   "outputs": [
    {
     "data": {
      "text/plain": [
       "42.4"
      ]
     },
     "execution_count": 27,
     "metadata": {},
     "output_type": "execute_result"
    }
   ],
   "source": [
    "array.mean()"
   ]
  },
  {
   "cell_type": "code",
   "execution_count": 28,
   "id": "daa245d8",
   "metadata": {},
   "outputs": [
    {
     "data": {
      "text/plain": [
       "23.78949347926517"
      ]
     },
     "execution_count": 28,
     "metadata": {},
     "output_type": "execute_result"
    }
   ],
   "source": [
    "array.std()"
   ]
  },
  {
   "cell_type": "code",
   "execution_count": 29,
   "id": "a89f14d3",
   "metadata": {},
   "outputs": [
    {
     "data": {
      "text/plain": [
       "565.94"
      ]
     },
     "execution_count": 29,
     "metadata": {},
     "output_type": "execute_result"
    }
   ],
   "source": [
    "array.var()"
   ]
  },
  {
   "cell_type": "code",
   "execution_count": 30,
   "id": "6a60a699",
   "metadata": {},
   "outputs": [
    {
     "data": {
      "text/plain": [
       "1"
      ]
     },
     "execution_count": 30,
     "metadata": {},
     "output_type": "execute_result"
    }
   ],
   "source": [
    "array.ndim"
   ]
  },
  {
   "cell_type": "code",
   "execution_count": 31,
   "id": "db9842f5",
   "metadata": {},
   "outputs": [
    {
     "data": {
      "text/plain": [
       "20"
      ]
     },
     "execution_count": 31,
     "metadata": {},
     "output_type": "execute_result"
    }
   ],
   "source": [
    "array.size"
   ]
  },
  {
   "cell_type": "code",
   "execution_count": 32,
   "id": "28a3376d",
   "metadata": {},
   "outputs": [
    {
     "data": {
      "text/plain": [
       "(20,)"
      ]
     },
     "execution_count": 32,
     "metadata": {},
     "output_type": "execute_result"
    }
   ],
   "source": [
    "array.shape"
   ]
  },
  {
   "cell_type": "code",
   "execution_count": 33,
   "id": "d1f89a70",
   "metadata": {},
   "outputs": [
    {
     "data": {
      "text/plain": [
       "13"
      ]
     },
     "execution_count": 33,
     "metadata": {},
     "output_type": "execute_result"
    }
   ],
   "source": [
    "array.argmin()"
   ]
  },
  {
   "cell_type": "code",
   "execution_count": 34,
   "id": "813ff585",
   "metadata": {},
   "outputs": [
    {
     "data": {
      "text/plain": [
       "15"
      ]
     },
     "execution_count": 34,
     "metadata": {},
     "output_type": "execute_result"
    }
   ],
   "source": [
    "array.argmax()"
   ]
  },
  {
   "cell_type": "markdown",
   "id": "f352be58",
   "metadata": {},
   "source": [
    "# İndexing"
   ]
  },
  {
   "cell_type": "code",
   "execution_count": 35,
   "id": "a9c96da9",
   "metadata": {},
   "outputs": [],
   "source": [
    "array = np.arange(25)"
   ]
  },
  {
   "cell_type": "code",
   "execution_count": 36,
   "id": "8ef679c6",
   "metadata": {},
   "outputs": [
    {
     "data": {
      "text/plain": [
       "5"
      ]
     },
     "execution_count": 36,
     "metadata": {},
     "output_type": "execute_result"
    }
   ],
   "source": [
    "array[5]"
   ]
  },
  {
   "cell_type": "code",
   "execution_count": 37,
   "id": "5bdf1fb3",
   "metadata": {},
   "outputs": [
    {
     "data": {
      "text/plain": [
       "array([ 3,  4,  5,  6,  7,  8,  9, 10, 11, 12, 13, 14])"
      ]
     },
     "execution_count": 37,
     "metadata": {},
     "output_type": "execute_result"
    }
   ],
   "source": [
    "array[3:15]"
   ]
  },
  {
   "cell_type": "code",
   "execution_count": 38,
   "id": "90696c1e",
   "metadata": {},
   "outputs": [],
   "source": [
    "array[0:5] = 15"
   ]
  },
  {
   "cell_type": "code",
   "execution_count": 39,
   "id": "adc61d7b",
   "metadata": {},
   "outputs": [
    {
     "data": {
      "text/plain": [
       "array([15, 15, 15, 15, 15,  5,  6,  7,  8,  9, 10, 11, 12, 13, 14, 15, 16,\n",
       "       17, 18, 19, 20, 21, 22, 23, 24])"
      ]
     },
     "execution_count": 39,
     "metadata": {},
     "output_type": "execute_result"
    }
   ],
   "source": [
    "array"
   ]
  },
  {
   "cell_type": "code",
   "execution_count": 40,
   "id": "7bb710e7",
   "metadata": {},
   "outputs": [],
   "source": [
    "array = array[::-1]#reversing"
   ]
  },
  {
   "cell_type": "code",
   "execution_count": 41,
   "id": "d800a641",
   "metadata": {},
   "outputs": [
    {
     "data": {
      "text/plain": [
       "array([24, 23, 22, 21, 20, 19, 18, 17, 16, 15, 14, 13, 12, 11, 10,  9,  8,\n",
       "        7,  6,  5, 15, 15, 15, 15, 15])"
      ]
     },
     "execution_count": 41,
     "metadata": {},
     "output_type": "execute_result"
    }
   ],
   "source": [
    "array"
   ]
  },
  {
   "cell_type": "code",
   "execution_count": 42,
   "id": "2a67346f",
   "metadata": {},
   "outputs": [
    {
     "data": {
      "text/plain": [
       "array([33, 33, 33, 33, 33, 33, 33, 33, 33, 33, 33, 33, 33, 33, 33, 33, 33,\n",
       "       33, 33, 33, 33, 33, 33, 33, 33])"
      ]
     },
     "execution_count": 42,
     "metadata": {},
     "output_type": "execute_result"
    }
   ],
   "source": [
    "array2 = array[:]\n",
    "array2[:] = 33\n",
    "array2"
   ]
  },
  {
   "cell_type": "markdown",
   "id": "0637554d",
   "metadata": {},
   "source": [
    "# Matrix"
   ]
  },
  {
   "cell_type": "code",
   "execution_count": 43,
   "id": "be194a04",
   "metadata": {},
   "outputs": [
    {
     "data": {
      "text/plain": [
       "array([[68, 92, 23, 76,  8],\n",
       "       [67, 71,  6, 56, 18],\n",
       "       [42, 70, 67, 43, 81],\n",
       "       [ 0, 90,  0, 27, 27],\n",
       "       [45, 90, 58, 47,  7]])"
      ]
     },
     "execution_count": 43,
     "metadata": {},
     "output_type": "execute_result"
    }
   ],
   "source": [
    "matrixArray = np.random.randint(0,100,25).reshape(5,5)\n",
    "matrixArray"
   ]
  },
  {
   "cell_type": "code",
   "execution_count": 44,
   "id": "495285d5",
   "metadata": {},
   "outputs": [
    {
     "data": {
      "text/plain": [
       "92"
      ]
     },
     "execution_count": 44,
     "metadata": {},
     "output_type": "execute_result"
    }
   ],
   "source": [
    "matrixArray[0][1]"
   ]
  },
  {
   "cell_type": "code",
   "execution_count": 45,
   "id": "d48eada1",
   "metadata": {},
   "outputs": [
    {
     "data": {
      "text/plain": [
       "92"
      ]
     },
     "execution_count": 45,
     "metadata": {},
     "output_type": "execute_result"
    }
   ],
   "source": [
    "matrixArray[0,1]"
   ]
  },
  {
   "cell_type": "code",
   "execution_count": 46,
   "id": "5bcdaee5",
   "metadata": {},
   "outputs": [
    {
     "data": {
      "text/plain": [
       "array([76, 56, 43, 27, 47])"
      ]
     },
     "execution_count": 46,
     "metadata": {},
     "output_type": "execute_result"
    }
   ],
   "source": [
    "matrixArray[0:,3]"
   ]
  },
  {
   "cell_type": "code",
   "execution_count": 47,
   "id": "b87d21a8",
   "metadata": {},
   "outputs": [
    {
     "data": {
      "text/plain": [
       "array([[67, 43, 81],\n",
       "       [ 0, 27, 27],\n",
       "       [58, 47,  7]])"
      ]
     },
     "execution_count": 47,
     "metadata": {},
     "output_type": "execute_result"
    }
   ],
   "source": [
    "matrixArray[2:,2:]"
   ]
  },
  {
   "cell_type": "code",
   "execution_count": 48,
   "id": "6bd77e63",
   "metadata": {},
   "outputs": [
    {
     "data": {
      "text/plain": [
       "array([[68, 92, 23, 76,  8],\n",
       "       [67, 71,  6, 56, 18],\n",
       "       [ 0, 90,  0, 27, 27]])"
      ]
     },
     "execution_count": 48,
     "metadata": {},
     "output_type": "execute_result"
    }
   ],
   "source": [
    "matrixArray[[0,1,3]]"
   ]
  },
  {
   "cell_type": "code",
   "execution_count": 51,
   "id": "d7a60544",
   "metadata": {},
   "outputs": [
    {
     "data": {
      "text/plain": [
       "array([[68, 92, 23, 76,  8],\n",
       "       [42, 70, 67, 43, 81],\n",
       "       [45, 90, 58, 47,  7]])"
      ]
     },
     "execution_count": 51,
     "metadata": {},
     "output_type": "execute_result"
    }
   ],
   "source": [
    "matrixArray[[0,2,4]]"
   ]
  },
  {
   "cell_type": "code",
   "execution_count": 53,
   "id": "986c58b3",
   "metadata": {
    "scrolled": true
   },
   "outputs": [
    {
     "data": {
      "text/plain": [
       "array([68, 71, 27])"
      ]
     },
     "execution_count": 53,
     "metadata": {},
     "output_type": "execute_result"
    }
   ],
   "source": [
    "matrixArray[[0,1,3],[0,1,4]]"
   ]
  },
  {
   "cell_type": "markdown",
   "id": "f14f935d",
   "metadata": {},
   "source": [
    "# Operators"
   ]
  },
  {
   "cell_type": "code",
   "execution_count": 66,
   "id": "7aafae5c",
   "metadata": {
    "scrolled": true
   },
   "outputs": [
    {
     "data": {
      "text/plain": [
       "array([55, 94, 25, 78, 12, 20, 90, 66, 55, 43, 17,  4, 21, 20, 50,  3, 13,\n",
       "       26, 24, 66])"
      ]
     },
     "execution_count": 66,
     "metadata": {},
     "output_type": "execute_result"
    }
   ],
   "source": [
    "newArray = np.random.randint(0,100,20)\n",
    "newArray"
   ]
  },
  {
   "cell_type": "code",
   "execution_count": 67,
   "id": "0d5564f5",
   "metadata": {},
   "outputs": [
    {
     "data": {
      "text/plain": [
       "array([False, False, False, False,  True, False, False, False, False,\n",
       "       False, False,  True, False, False, False,  True,  True, False,\n",
       "       False, False])"
      ]
     },
     "execution_count": 67,
     "metadata": {},
     "output_type": "execute_result"
    }
   ],
   "source": [
    "newArray < 15 #result = boolean"
   ]
  },
  {
   "cell_type": "code",
   "execution_count": 68,
   "id": "ef65fde8",
   "metadata": {},
   "outputs": [],
   "source": [
    "resultArray = newArray <15"
   ]
  },
  {
   "cell_type": "code",
   "execution_count": 69,
   "id": "6c8ea46c",
   "metadata": {},
   "outputs": [
    {
     "data": {
      "text/plain": [
       "array([12,  4,  3, 13])"
      ]
     },
     "execution_count": 69,
     "metadata": {},
     "output_type": "execute_result"
    }
   ],
   "source": [
    "newArray[resultArray]"
   ]
  },
  {
   "cell_type": "code",
   "execution_count": 70,
   "id": "cc790ede",
   "metadata": {},
   "outputs": [
    {
     "data": {
      "text/plain": [
       "array([25, 12, 20, 43, 17,  4, 21, 20,  3, 13, 26, 24])"
      ]
     },
     "execution_count": 70,
     "metadata": {},
     "output_type": "execute_result"
    }
   ],
   "source": [
    "newArray[newArray <50]"
   ]
  },
  {
   "cell_type": "code",
   "execution_count": 71,
   "id": "c1e524bd",
   "metadata": {},
   "outputs": [],
   "source": [
    "newArray2 = newArray + newArray"
   ]
  },
  {
   "cell_type": "code",
   "execution_count": 72,
   "id": "4584ad7e",
   "metadata": {},
   "outputs": [
    {
     "data": {
      "text/plain": [
       "array([110, 188,  50, 156,  24,  40, 180, 132, 110,  86,  34,   8,  42,\n",
       "        40, 100,   6,  26,  52,  48, 132])"
      ]
     },
     "execution_count": 72,
     "metadata": {},
     "output_type": "execute_result"
    }
   ],
   "source": [
    "newArray2"
   ]
  },
  {
   "cell_type": "code",
   "execution_count": 73,
   "id": "f5a121fe",
   "metadata": {},
   "outputs": [
    {
     "data": {
      "text/plain": [
       "array([11. , 18.8,  5. , 15.6,  2.4,  4. , 18. , 13.2, 11. ,  8.6,  3.4,\n",
       "        0.8,  4.2,  4. , 10. ,  0.6,  2.6,  5.2,  4.8, 13.2])"
      ]
     },
     "execution_count": 73,
     "metadata": {},
     "output_type": "execute_result"
    }
   ],
   "source": [
    "newArray/5"
   ]
  },
  {
   "cell_type": "code",
   "execution_count": 74,
   "id": "d9e81647",
   "metadata": {},
   "outputs": [
    {
     "data": {
      "text/plain": [
       "array([-45,  -6, -75, -22, -88, -80, -10, -34, -45, -57, -83, -96, -79,\n",
       "       -80, -50, -97, -87, -74, -76, -34])"
      ]
     },
     "execution_count": 74,
     "metadata": {},
     "output_type": "execute_result"
    }
   ],
   "source": [
    "newArray - 100"
   ]
  },
  {
   "cell_type": "code",
   "execution_count": 76,
   "id": "20f2c556",
   "metadata": {},
   "outputs": [
    {
     "data": {
      "text/plain": [
       "array([7.41619849, 9.69535971, 5.        , 8.83176087, 3.46410162,\n",
       "       4.47213595, 9.48683298, 8.1240384 , 7.41619849, 6.55743852,\n",
       "       4.12310563, 2.        , 4.58257569, 4.47213595, 7.07106781,\n",
       "       1.73205081, 3.60555128, 5.09901951, 4.89897949, 8.1240384 ])"
      ]
     },
     "execution_count": 76,
     "metadata": {},
     "output_type": "execute_result"
    }
   ],
   "source": [
    "np.sqrt(newArray)"
   ]
  },
  {
   "cell_type": "code",
   "execution_count": null,
   "id": "f325e87b",
   "metadata": {},
   "outputs": [],
   "source": []
  }
 ],
 "metadata": {
  "kernelspec": {
   "display_name": "Python 3 (ipykernel)",
   "language": "python",
   "name": "python3"
  },
  "language_info": {
   "codemirror_mode": {
    "name": "ipython",
    "version": 3
   },
   "file_extension": ".py",
   "mimetype": "text/x-python",
   "name": "python",
   "nbconvert_exporter": "python",
   "pygments_lexer": "ipython3",
   "version": "3.9.7"
  }
 },
 "nbformat": 4,
 "nbformat_minor": 5
}
